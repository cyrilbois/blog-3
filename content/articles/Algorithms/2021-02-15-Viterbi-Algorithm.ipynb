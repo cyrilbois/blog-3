{
 "cells": [
  {
   "cell_type": "markdown",
   "metadata": {},
   "source": [
    "- date: 2021-02-15 10:17:17\n",
    "- author: Jerry Su\n",
    "- slug: Viterbi-Algorithm\n",
    "- title: Viterbi Algorithm\n",
    "- category: \n",
    "- tags: Viterbi, Algorithm"
   ]
  },
  {
   "cell_type": "markdown",
   "metadata": {},
   "source": [
    "## 矩阵法\n",
    "\n",
    "注：转移矩阵和发射矩阵以列维度上形式表示概率分布的，即列维度axis=1上元素和为1。**注意：把隐状态概率分布表示为向量后，向量乘以状态转移矩阵的结果为新的隐状态。** 同理，对发射矩阵做向量矩阵乘法会得到新的观测状态。"
   ]
  },
  {
   "cell_type": "code",
   "execution_count": 22,
   "metadata": {},
   "outputs": [],
   "source": [
    "import numpy as np\n",
    "from typing import List, Optional, Tuple"
   ]
  },
  {
   "cell_type": "code",
   "execution_count": null,
   "metadata": {},
   "outputs": [],
   "source": [
    "def step(score_prev: np.ndarray,\n",
    "         emission_probs: np.ndarray,\n",
    "         transition_probs: np.ndarray,\n",
    "         observed_state: int) -> Tuple[np.ndarray, np.ndarray]:\n",
    "    \"\"\"Runs one step of the Viterbi algorithm.\n",
    "    \n",
    "    Args:\n",
    "        score_prev: probability distribution with shape (num_hidden),\n",
    "            the previous score\n",
    "        emission_probs: the emission probability matrix (num_hidden,\n",
    "            num_observed)\n",
    "        transition_probs: the transition probability matrix, with\n",
    "            shape (num_hidden, num_hidden)\n",
    "        observed_state: the observed state at the current step\n",
    "    \n",
    "    Returns:\n",
    "        - the score for the next step\n",
    "        - the maximizing previous state, before the current state, as an int array with shape (num_hidden)\n",
    "    \"\"\"\n",
    "    \n",
    "\n",
    "def viterbi(emission_probs: np.ndarray,\n",
    "            transaction_probs: np.array,\n",
    "            start_probs: np.ndarray,\n",
    "            observed_states: List[int]) -> Tuple[List[int], float]:\n",
    "    \"\"\"运行维特比算法获得最有可能的状态序列。\n",
    "    \n",
    "    Args:\n",
    "        emission_probs:\n",
    "        transaction_probs:\n",
    "        start_probs:\n",
    "        observed_states:\n",
    "        \n",
    "    Returns:\n",
    "        - 最有可能的状态序列。\n",
    "        - 状态和观测序列的联合概率值。\n",
    "    \"\"\"\n",
    "    # 运行正向传递，存储最有可能的先前状态。\n",
    "    score = start_probs * emission_probs[:, observed_states[0]]  # 第一个时间步的最优解向量（隐含状态向量维度）\n",
    "    all_pre_states = []\n",
    "    for observed_state in observed_states[1:]:\n",
    "        score, prevs = step(score, emission_probs, transaction_probs, observed_state)\n",
    "        all_pre_states.append(prevs)"
   ]
  },
  {
   "cell_type": "code",
   "execution_count": 2,
   "metadata": {},
   "outputs": [],
   "source": [
    "num_hidden_states = 3     # vocab_size\n",
    "num_observed_states = 2   # vocab_size\n",
    "num_time_steps = 4        # sequence_length"
   ]
  },
  {
   "cell_type": "code",
   "execution_count": 23,
   "metadata": {},
   "outputs": [],
   "source": [
    "# 初始化转移概率矩阵\n",
    "transaction_probs = np.array([\n",
    "    [0.1, 0.2, 0.7],\n",
    "    [0.1, 0.1, 0.8],\n",
    "    [0.5, 0.4, 0.1],\n",
    "])\n",
    "assert transaction_probs.shape == (num_hidden_states, num_hidden_states)\n",
    "assert transaction_probs.sum(axis=1).mean() == 1.0\n",
    "\n",
    "# 初始化发射概率矩阵 （行 -> 隐含状态：0，1，2，列 -> 观测状态：0，1）\n",
    "emission_probs = np.array([\n",
    "    [0.1, 0.9],\n",
    "    [0.3, 0.7],\n",
    "    [0.5, 0.5],    \n",
    "])\n",
    "assert emission_probs.shape == (num_hidden_states, num_observed_states)\n",
    "assert emission_probs.sum(axis=1).mean() == 1.0\n",
    "\n",
    "# 初始隐状态概率\n",
    "init_hidden_state_probs = np.array([0.1, 0.3, 0.6])\n",
    "assert init_hidden_state_probs.shape == (num_hidden_states,)\n",
    "\n",
    "# 定义观测序列\n",
    "observed_states = [1, 1, 0, 1]\n",
    "assert len(observed_states) == num_time_steps"
   ]
  },
  {
   "cell_type": "code",
   "execution_count": 24,
   "metadata": {},
   "outputs": [
    {
     "data": {
      "text/plain": [
       "array([0.1, 0.3, 0.6])"
      ]
     },
     "execution_count": 24,
     "metadata": {},
     "output_type": "execute_result"
    }
   ],
   "source": [
    "init_hidden_state_probs"
   ]
  },
  {
   "cell_type": "code",
   "execution_count": 29,
   "metadata": {},
   "outputs": [
    {
     "data": {
      "text/plain": [
       "array([[0.1, 0.9],\n",
       "       [0.3, 0.7],\n",
       "       [0.5, 0.5]])"
      ]
     },
     "execution_count": 29,
     "metadata": {},
     "output_type": "execute_result"
    }
   ],
   "source": [
    "emission_probs"
   ]
  },
  {
   "cell_type": "code",
   "execution_count": 30,
   "metadata": {},
   "outputs": [
    {
     "data": {
      "text/plain": [
       "array([0.01, 0.09, 0.3 ])"
      ]
     },
     "execution_count": 30,
     "metadata": {},
     "output_type": "execute_result"
    }
   ],
   "source": [
    "score = init_hidden_state_probs * emission_probs[:, 0]\n",
    "score"
   ]
  },
  {
   "cell_type": "code",
   "execution_count": 44,
   "metadata": {},
   "outputs": [
    {
     "data": {
      "text/plain": [
       "array([[0.1, 0.1, 0.5],\n",
       "       [0.2, 0.1, 0.4],\n",
       "       [0.7, 0.8, 0.1]])"
      ]
     },
     "execution_count": 44,
     "metadata": {},
     "output_type": "execute_result"
    }
   ],
   "source": [
    "transaction_probs.T"
   ]
  },
  {
   "cell_type": "code",
   "execution_count": 46,
   "metadata": {},
   "outputs": [
    {
     "data": {
      "text/plain": [
       "array([[0.001, 0.009, 0.15 ],\n",
       "       [0.002, 0.009, 0.12 ],\n",
       "       [0.007, 0.072, 0.03 ]])"
      ]
     },
     "execution_count": 46,
     "metadata": {},
     "output_type": "execute_result"
    }
   ],
   "source": [
    "pre_max = score * transaction_probs.T\n",
    "pre_max"
   ]
  },
  {
   "cell_type": "code",
   "execution_count": 47,
   "metadata": {},
   "outputs": [
    {
     "data": {
      "text/plain": [
       "array([2, 2, 1])"
      ]
     },
     "execution_count": 47,
     "metadata": {},
     "output_type": "execute_result"
    }
   ],
   "source": [
    "np.argmax(pre_max, axis=1)"
   ]
  },
  {
   "cell_type": "code",
   "execution_count": null,
   "metadata": {},
   "outputs": [],
   "source": []
  }
 ],
 "metadata": {
  "kernelspec": {
   "display_name": "Python [conda env:blog] *",
   "language": "python",
   "name": "conda-env-blog-py"
  },
  "language_info": {
   "codemirror_mode": {
    "name": "ipython",
    "version": 3
   },
   "file_extension": ".py",
   "mimetype": "text/x-python",
   "name": "python",
   "nbconvert_exporter": "python",
   "pygments_lexer": "ipython3",
   "version": "3.8.3"
  }
 },
 "nbformat": 4,
 "nbformat_minor": 2
}
