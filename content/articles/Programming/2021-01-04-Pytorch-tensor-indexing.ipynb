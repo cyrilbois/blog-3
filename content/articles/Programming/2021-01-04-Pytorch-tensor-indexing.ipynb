{
 "cells": [
  {
   "cell_type": "markdown",
   "metadata": {},
   "source": [
    "- date: 2021-02-07 12:17:17\n",
    "- author: Jerry Su\n",
    "- slug: pytorch-tensor-indexing\n",
    "- title: Pytorch-tensor-indexing\n",
    "- category: \n",
    "- tags: Deep Learning, Pytorch"
   ]
  },
  {
   "cell_type": "code",
   "execution_count": 1,
   "metadata": {},
   "outputs": [],
   "source": [
    "import torch"
   ]
  },
  {
   "cell_type": "markdown",
   "metadata": {},
   "source": [
    "## 一. 2维Tensor索引"
   ]
  },
  {
   "cell_type": "code",
   "execution_count": 11,
   "metadata": {},
   "outputs": [
    {
     "data": {
      "text/plain": [
       "tensor([[ 0.5018,  0.4398,  0.0640,  0.1166, -0.9359, -0.5330, -0.0846, -1.9441],\n",
       "        [ 0.4020, -1.1602,  0.0970, -0.7664, -0.1459,  0.4404,  0.7028,  1.6285],\n",
       "        [-0.1601,  0.2676,  0.6868,  0.5318, -0.3392, -0.1916, -0.7202,  1.6318],\n",
       "        [ 0.7315,  1.5422, -0.1916, -0.1396,  0.7202,  0.7700,  2.5994,  1.5833],\n",
       "        [-1.3667,  1.1020, -0.2463,  2.1035, -1.0413,  0.4249,  0.0398, -0.6893],\n",
       "        [-0.5338,  1.1837,  1.1627,  0.4413,  0.2768, -0.5518, -0.7255,  0.4226],\n",
       "        [ 1.1816,  1.5774, -1.3915,  1.2548,  0.3516,  0.6880,  0.8448,  0.0823],\n",
       "        [-0.9731,  0.8838,  0.9227, -0.9670, -0.6315,  0.1609, -1.4294,  0.7157]])"
      ]
     },
     "execution_count": 11,
     "metadata": {},
     "output_type": "execute_result"
    }
   ],
   "source": [
    "trans_matrix = torch.randn(8, 8)\n",
    "trans_matrix"
   ]
  },
  {
   "cell_type": "code",
   "execution_count": 12,
   "metadata": {},
   "outputs": [
    {
     "data": {
      "text/plain": [
       "tensor([[6, 4, 2, 5, 5, 3, 4, 7, 0],\n",
       "        [6, 4, 2, 3, 4, 4, 7, 0, 0],\n",
       "        [6, 2, 5, 3, 4, 7, 0, 0, 0]])"
      ]
     },
     "execution_count": 12,
     "metadata": {},
     "output_type": "execute_result"
    }
   ],
   "source": [
    "index = torch.tensor([[6, 4, 2, 5, 5, 3, 4, 7, 0],\n",
    "                      [6, 4, 2, 3, 4, 4, 7, 0, 0],\n",
    "                      [6, 2, 5, 3, 4, 7, 0, 0, 0]])\n",
    "index"
   ]
  },
  {
   "cell_type": "code",
   "execution_count": 14,
   "metadata": {},
   "outputs": [
    {
     "data": {
      "text/plain": [
       "tensor([[6, 6, 6],\n",
       "        [4, 4, 2],\n",
       "        [2, 2, 5],\n",
       "        [5, 3, 3],\n",
       "        [5, 4, 4],\n",
       "        [3, 4, 7],\n",
       "        [4, 7, 0],\n",
       "        [7, 0, 0],\n",
       "        [0, 0, 0]])"
      ]
     },
     "execution_count": 14,
     "metadata": {},
     "output_type": "execute_result"
    }
   ],
   "source": [
    "index = index.transpose(0, 1)\n",
    "index"
   ]
  },
  {
   "cell_type": "code",
   "execution_count": 15,
   "metadata": {},
   "outputs": [
    {
     "data": {
      "text/plain": [
       "tensor([[6, 6, 6],\n",
       "        [4, 4, 2],\n",
       "        [2, 2, 5],\n",
       "        [5, 3, 3],\n",
       "        [5, 4, 4],\n",
       "        [3, 4, 7],\n",
       "        [4, 7, 0],\n",
       "        [7, 0, 0]])"
      ]
     },
     "execution_count": 15,
     "metadata": {},
     "output_type": "execute_result"
    }
   ],
   "source": [
    "index1= index[:-1]\n",
    "index1"
   ]
  },
  {
   "cell_type": "code",
   "execution_count": 16,
   "metadata": {},
   "outputs": [
    {
     "data": {
      "text/plain": [
       "tensor([[4, 4, 2],\n",
       "        [2, 2, 5],\n",
       "        [5, 3, 3],\n",
       "        [5, 4, 4],\n",
       "        [3, 4, 7],\n",
       "        [4, 7, 0],\n",
       "        [7, 0, 0],\n",
       "        [0, 0, 0]])"
      ]
     },
     "execution_count": 16,
     "metadata": {},
     "output_type": "execute_result"
    }
   ],
   "source": [
    "index2 = index[1:]\n",
    "index2"
   ]
  },
  {
   "cell_type": "code",
   "execution_count": 17,
   "metadata": {},
   "outputs": [
    {
     "data": {
      "text/plain": [
       "tensor([[ 0.3516,  0.3516, -1.3915],\n",
       "        [-0.2463, -0.2463, -0.1916],\n",
       "        [-0.1916,  0.5318,  0.4413],\n",
       "        [-0.5518,  0.7202,  0.7202],\n",
       "        [ 0.4413, -1.0413, -0.6893],\n",
       "        [ 0.7202, -0.6893, -0.9731],\n",
       "        [-0.6893, -0.9731,  0.5018],\n",
       "        [-0.9731,  0.5018,  0.5018]])"
      ]
     },
     "execution_count": 17,
     "metadata": {},
     "output_type": "execute_result"
    }
   ],
   "source": [
    "trans_matrix[index1, index2]   # tensor 2维索引"
   ]
  },
  {
   "cell_type": "code",
   "execution_count": 18,
   "metadata": {},
   "outputs": [
    {
     "data": {
      "text/plain": [
       "tensor([[ 0.5018,  0.4398,  0.0640,  0.1166, -0.9359, -0.5330, -0.0846, -1.9441],\n",
       "        [ 0.4020, -1.1602,  0.0970, -0.7664, -0.1459,  0.4404,  0.7028,  1.6285],\n",
       "        [-0.1601,  0.2676,  0.6868,  0.5318, -0.3392, -0.1916, -0.7202,  1.6318],\n",
       "        [ 0.7315,  1.5422, -0.1916, -0.1396,  0.7202,  0.7700,  2.5994,  1.5833],\n",
       "        [-1.3667,  1.1020, -0.2463,  2.1035, -1.0413,  0.4249,  0.0398, -0.6893],\n",
       "        [-0.5338,  1.1837,  1.1627,  0.4413,  0.2768, -0.5518, -0.7255,  0.4226],\n",
       "        [ 1.1816,  1.5774, -1.3915,  1.2548,  0.3516,  0.6880,  0.8448,  0.0823],\n",
       "        [-0.9731,  0.8838,  0.9227, -0.9670, -0.6315,  0.1609, -1.4294,  0.7157]])"
      ]
     },
     "execution_count": 18,
     "metadata": {},
     "output_type": "execute_result"
    }
   ],
   "source": [
    "trans_matrix"
   ]
  },
  {
   "cell_type": "code",
   "execution_count": null,
   "metadata": {},
   "outputs": [],
   "source": []
  },
  {
   "cell_type": "markdown",
   "metadata": {},
   "source": [
    "## 二. 3维Tensor索引"
   ]
  },
  {
   "cell_type": "code",
   "execution_count": 44,
   "metadata": {
    "scrolled": false
   },
   "outputs": [
    {
     "data": {
      "text/plain": [
       "tensor([[[ 1.0069,  0.5182, -0.4227, -0.5194, -1.6969],\n",
       "         [ 0.4987,  0.8371,  0.4351, -0.1743, -1.0407],\n",
       "         [ 0.7765, -0.0659, -0.4499,  0.6877, -0.1851],\n",
       "         [-0.5196,  1.6021, -0.8054, -1.1669, -0.3488]],\n",
       "\n",
       "        [[ 0.1300, -1.0548,  0.2392, -1.2067,  0.3024],\n",
       "         [-1.5936, -1.2103,  1.4773,  0.8156,  0.5295],\n",
       "         [-0.4416, -0.5252, -0.9666, -0.1766, -0.4289],\n",
       "         [ 0.7704, -0.7821,  0.2555, -0.9723, -0.3204]],\n",
       "\n",
       "        [[-0.1897,  0.6734,  0.4039,  0.1909, -0.6221],\n",
       "         [-1.8639, -2.5551, -1.8447, -0.2174, -0.1130],\n",
       "         [ 1.5667,  2.4276, -1.8247, -0.2462,  0.0605],\n",
       "         [-0.0302,  0.4692,  0.2567, -1.3758,  1.2917]]])"
      ]
     },
     "execution_count": 44,
     "metadata": {},
     "output_type": "execute_result"
    }
   ],
   "source": [
    "logits = torch.randn(4, 3, 5)\n",
    "logits = logits.transpose(0, 1)\n",
    "logits"
   ]
  },
  {
   "cell_type": "code",
   "execution_count": 69,
   "metadata": {},
   "outputs": [
    {
     "name": "stdout",
     "output_type": "stream",
     "text": [
      "tensor([0, 1, 2, 3])\n"
     ]
    },
    {
     "data": {
      "text/plain": [
       "tensor([[0],\n",
       "        [1],\n",
       "        [2],\n",
       "        [3]])"
      ]
     },
     "execution_count": 69,
     "metadata": {},
     "output_type": "execute_result"
    }
   ],
   "source": [
    "seq = torch.arange(4)\n",
    "print(seq)\n",
    "seq = seq.view(-1, 1)\n",
    "seq"
   ]
  },
  {
   "cell_type": "code",
   "execution_count": 70,
   "metadata": {},
   "outputs": [
    {
     "name": "stdout",
     "output_type": "stream",
     "text": [
      "tensor([0, 1, 2])\n"
     ]
    },
    {
     "data": {
      "text/plain": [
       "tensor([[0, 1, 2]])"
      ]
     },
     "execution_count": 70,
     "metadata": {},
     "output_type": "execute_result"
    }
   ],
   "source": [
    "batch = torch.arange(3)\n",
    "print(batch)\n",
    "batch = batch.view(1, -1)\n",
    "batch"
   ]
  },
  {
   "cell_type": "code",
   "execution_count": 71,
   "metadata": {},
   "outputs": [
    {
     "data": {
      "text/plain": [
       "tensor([[4, 4, 4],\n",
       "        [4, 4, 7],\n",
       "        [2, 2, 0],\n",
       "        [0, 2, 0]])"
      ]
     },
     "execution_count": 71,
     "metadata": {},
     "output_type": "execute_result"
    }
   ],
   "source": [
    "index = torch.tensor([[4, 4, 2, 0],\n",
    "                      [4, 4, 2, 2],\n",
    "                      [4, 7, 0, 0]]).transpose(0, 1)\n",
    "index"
   ]
  },
  {
   "cell_type": "code",
   "execution_count": 72,
   "metadata": {},
   "outputs": [
    {
     "ename": "IndexError",
     "evalue": "index 3 is out of bounds for dimension 0 with size 3",
     "output_type": "error",
     "traceback": [
      "\u001b[0;31m---------------------------------------------------------------------------\u001b[0m",
      "\u001b[0;31mIndexError\u001b[0m                                Traceback (most recent call last)",
      "\u001b[0;32m<ipython-input-72-3f65e483e3be>\u001b[0m in \u001b[0;36m<module>\u001b[0;34m\u001b[0m\n\u001b[0;32m----> 1\u001b[0;31m \u001b[0mlogits\u001b[0m\u001b[0;34m[\u001b[0m\u001b[0mseq\u001b[0m\u001b[0;34m,\u001b[0m \u001b[0mbatch\u001b[0m\u001b[0;34m,\u001b[0m \u001b[0mindex\u001b[0m\u001b[0;34m]\u001b[0m\u001b[0;34m\u001b[0m\u001b[0;34m\u001b[0m\u001b[0m\n\u001b[0m",
      "\u001b[0;31mIndexError\u001b[0m: index 3 is out of bounds for dimension 0 with size 3"
     ]
    }
   ],
   "source": [
    "logits[seq, batch, index]"
   ]
  },
  {
   "cell_type": "code",
   "execution_count": 52,
   "metadata": {},
   "outputs": [
    {
     "data": {
      "text/plain": [
       "tensor([[[ 1.0069,  0.5182, -0.4227, -0.5194, -1.6969],\n",
       "         [ 0.4987,  0.8371,  0.4351, -0.1743, -1.0407],\n",
       "         [ 0.7765, -0.0659, -0.4499,  0.6877, -0.1851],\n",
       "         [-0.5196,  1.6021, -0.8054, -1.1669, -0.3488]],\n",
       "\n",
       "        [[ 0.1300, -1.0548,  0.2392, -1.2067,  0.3024],\n",
       "         [-1.5936, -1.2103,  1.4773,  0.8156,  0.5295],\n",
       "         [-0.4416, -0.5252, -0.9666, -0.1766, -0.4289],\n",
       "         [ 0.7704, -0.7821,  0.2555, -0.9723, -0.3204]],\n",
       "\n",
       "        [[-0.1897,  0.6734,  0.4039,  0.1909, -0.6221],\n",
       "         [-1.8639, -2.5551, -1.8447, -0.2174, -0.1130],\n",
       "         [ 1.5667,  2.4276, -1.8247, -0.2462,  0.0605],\n",
       "         [-0.0302,  0.4692,  0.2567, -1.3758,  1.2917]]])"
      ]
     },
     "execution_count": 52,
     "metadata": {},
     "output_type": "execute_result"
    }
   ],
   "source": [
    "logits"
   ]
  },
  {
   "cell_type": "code",
   "execution_count": null,
   "metadata": {},
   "outputs": [],
   "source": []
  },
  {
   "cell_type": "code",
   "execution_count": null,
   "metadata": {},
   "outputs": [],
   "source": []
  }
 ],
 "metadata": {
  "kernelspec": {
   "display_name": "Python [conda env:blog] *",
   "language": "python",
   "name": "conda-env-blog-py"
  },
  "language_info": {
   "codemirror_mode": {
    "name": "ipython",
    "version": 3
   },
   "file_extension": ".py",
   "mimetype": "text/x-python",
   "name": "python",
   "nbconvert_exporter": "python",
   "pygments_lexer": "ipython3",
   "version": "3.8.3"
  }
 },
 "nbformat": 4,
 "nbformat_minor": 4
}
