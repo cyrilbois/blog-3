{
 "cells": [
  {
   "cell_type": "markdown",
   "metadata": {},
   "source": [
    "- date: 2021-06-21 10:17:17\n",
    "- author: Jerry Su\n",
    "- slug: Python-re\n",
    "- title: Python - re\n",
    "- category: \n",
    "- tags: Python, Regex"
   ]
  },
  {
   "cell_type": "code",
   "execution_count": 5,
   "metadata": {},
   "outputs": [],
   "source": [
    "import re\n",
    "import json"
   ]
  },
  {
   "cell_type": "code",
   "execution_count": 29,
   "metadata": {},
   "outputs": [],
   "source": [
    "texts = [{\"text\": \"民生银行在中报中解释，\", \"label\": {\"book\": {\"中报\": [[5, 6]]}, \"company\": {\"民生银行\": [[0, 3]]}}},\n",
    "{\"text\": \"很多射击游戏都会在游戏的武器系?统上做。文章？但是与之\\n不同的是，《狼穴尖兵2》\", \"label\": {\"game\": {\"《狼穴尖兵2》\": [[30, 36]]}}},\n",
    "{\"text\": \"玩家可以通过NDS掌机手持这款游戏用自己创造的生物与其他玩家决斗竞技。《孢子：英雄竞技场》\", \"label\": {\"game\": {\"《孢子：英雄竞技场》\": [[35, 44]]}}},\n",
    "{\"text\": \"由EARedwoodShores工作室（《死亡空间》的开发商）\", \"label\": {\"game\": {\"《死亡空间》\": [[20, 25]]}, \"company\": {\"EARedwoodShores工作室\": [[1, 18]]}}},\n",
    "{\"text\": \"永久入口2.传奇来了快速入口，点我进入！3.凡人飞仙充值有礼！永久入口4.\", \"label\": {\"game\": {\"凡人飞仙\": [[22, 25]]}}},\n",
    "{\"text\": \"□记者姚克勤通讯员李鸿光\", \"label\": {\"name\": {\"姚克勤\": [[3, 5]], \"李鸿光\": [[9, 11]]}, \"position\": {\"记者\": [[1, 2]], \"通讯员\": [[6, 8]]}}},\n",
    "{\"text\": \"发表于2010年《大众软件》9月中\", \"label\": {\"book\": {\"《大众软件》\": [[8, 13]]}}}]"
   ]
  },
  {
   "cell_type": "code",
   "execution_count": 31,
   "metadata": {},
   "outputs": [],
   "source": [
    "jerry = []\n",
    "jerry.extend(re.findall(u'.*?[\\n。]+', texts[1][\"text\"]))"
   ]
  }
 ],
 "metadata": {
  "kernelspec": {
   "display_name": "Python [conda env:blog] *",
   "language": "python",
   "name": "conda-env-blog-py"
  },
  "language_info": {
   "codemirror_mode": {
    "name": "ipython",
    "version": 3
   },
   "file_extension": ".py",
   "mimetype": "text/x-python",
   "name": "python",
   "nbconvert_exporter": "python",
   "pygments_lexer": "ipython3",
   "version": "3.8.3"
  }
 },
 "nbformat": 4,
 "nbformat_minor": 4
}
