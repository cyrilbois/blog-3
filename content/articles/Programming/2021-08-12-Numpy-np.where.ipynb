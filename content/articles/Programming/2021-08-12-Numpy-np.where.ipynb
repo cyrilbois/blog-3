{
 "cells": [
  {
   "cell_type": "markdown",
   "metadata": {},
   "source": [
    "- date: 2021-08-12 10:17:17\n",
    "- author: Jerry Su\n",
    "- slug: Numpy-np.where\n",
    "- title: Numpy np.where\n",
    "- category: \n",
    "- tags: Numpy\n",
    "\n",
    "[TOC]"
   ]
  },
  {
   "cell_type": "code",
   "execution_count": 2,
   "metadata": {},
   "outputs": [],
   "source": [
    "import numpy as np"
   ]
  },
  {
   "cell_type": "code",
   "execution_count": 41,
   "metadata": {},
   "outputs": [
    {
     "data": {
      "text/plain": [
       "array([[[ 0.31746187,  0.09677123, -0.57494473, -0.84809823],\n",
       "        [ 0.95787906,  0.57334158,  0.82016981,  0.38040023],\n",
       "        [ 0.16743678, -0.54337746,  0.7138519 , -0.00522002],\n",
       "        [ 0.36538815,  0.08724799,  0.20851327, -0.09850236]],\n",
       "\n",
       "       [[-0.02199969,  0.75579471,  0.83400303, -0.58165067],\n",
       "        [ 0.37903086,  0.6875091 ,  0.10040784,  0.55007649],\n",
       "        [ 0.69571394, -0.09054164,  0.01579526,  0.47615967],\n",
       "        [-0.29788323,  0.04122595,  0.90232327,  0.64691746]]])"
      ]
     },
     "execution_count": 41,
     "metadata": {},
     "output_type": "execute_result"
    }
   ],
   "source": [
    "scores = -1 + 2 * np.random.random(size=(2, 4, 4)) #  随机生成[-1, 1]之间小数\n",
    "scores"
   ]
  },
  {
   "cell_type": "code",
   "execution_count": 42,
   "metadata": {},
   "outputs": [
    {
     "data": {
      "text/plain": [
       "(array([0, 0, 0, 0, 1, 1, 1, 1, 1, 1, 1]),\n",
       " array([1, 1, 1, 2, 0, 0, 1, 1, 2, 3, 3]),\n",
       " array([0, 1, 2, 2, 1, 2, 1, 3, 0, 2, 3]))"
      ]
     },
     "execution_count": 42,
     "metadata": {},
     "output_type": "execute_result"
    }
   ],
   "source": [
    "locs = np.where(scores > 0.5)\n",
    "locs"
   ]
  },
  {
   "cell_type": "code",
   "execution_count": 43,
   "metadata": {},
   "outputs": [
    {
     "name": "stdout",
     "output_type": "stream",
     "text": [
      "0 1 0\n",
      "0 1 1\n",
      "0 1 2\n",
      "0 2 2\n",
      "1 0 1\n",
      "1 0 2\n",
      "1 1 1\n",
      "1 1 3\n",
      "1 2 0\n",
      "1 3 2\n",
      "1 3 3\n"
     ]
    }
   ],
   "source": [
    "for dim0, dim1, dim2 in zip(*locs):\n",
    "    print(dim0, dim1, dim2)"
   ]
  },
  {
   "cell_type": "code",
   "execution_count": 48,
   "metadata": {},
   "outputs": [
    {
     "data": {
      "text/plain": [
       "b't\\xe3\\x92\\x92KQ\\xd4?0\\xfbC\\xe7\\xff\\xc5\\xb8?fd;}\\xf2e\\xe2\\xbf\\xa2\\x14\\x11\\xe7\\x9e#\\xeb\\xbfx\\x97S\\xfb\\xf1\\xa6\\xee? \\xa8\\xdfq\\xd0X\\xe2?\\x1e\\x90W\\xc2\\xd4>\\xea?P\\xc5\\xec2zX\\xd8?\\xc0H\"\\x89\\x91n\\xc5?\\x9a\\x89\\xa5\\x1fYc\\xe1\\xbf\\xc0$\\x84\\xf1\\xdf\\xd7\\xe6?\\x00\\xf5$\\xc9\\x97au\\xbf\\xf0tB\\xfd\\x84b\\xd7?\\xd0\\xf1\\x85R\\xe2U\\xb6?\\xe0y\\xac\\x0b\\x90\\xb0\\xca?\\x00\\xf9\\xd8ss7\\xb9\\xbf@\\xcd[\\x17\\x16\\x87\\x96\\xbf^\\xd9\\xadex/\\xe8?\\x0e\\xa1\\x13 \\'\\xb0\\xea?\\x80\\xf27\\xdb\\xe1\\x9c\\xe2\\xbf\\xa0\\xce\\xa3\\xa4\\nB\\xd8?*\\xfeC\\x13\\x13\\x00\\xe6? \\xf4\\xe8\\x13T\\xb4\\xb9?\\xaa\\xdd\\xdf\\x02:\\x9a\\xe1?h5\\xdb\\xe2IC\\xe6?\\xe0\\xc3;\\x9d\\xbc-\\xb7\\xbf@)\\xab*\\xa2,\\x90?\\xf8\\xd3\\xa5cfy\\xde?$Z\\x96\\xce\\x84\\x10\\xd3\\xbf@\\n/@\\x91\\x1b\\xa5?\\xf4\\x91e\\x0f\\xd5\\xdf\\xec?\\x9a/d?\\x8c\\xb3\\xe4?'"
      ]
     },
     "execution_count": 48,
     "metadata": {},
     "output_type": "execute_result"
    }
   ],
   "source": [
    "scores.tostring()"
   ]
  },
  {
   "cell_type": "code",
   "execution_count": null,
   "metadata": {},
   "outputs": [],
   "source": []
  }
 ],
 "metadata": {
  "kernelspec": {
   "display_name": "Python [conda env:blog] *",
   "language": "python",
   "name": "conda-env-blog-py"
  },
  "language_info": {
   "codemirror_mode": {
    "name": "ipython",
    "version": 3
   },
   "file_extension": ".py",
   "mimetype": "text/x-python",
   "name": "python",
   "nbconvert_exporter": "python",
   "pygments_lexer": "ipython3",
   "version": "3.8.3"
  }
 },
 "nbformat": 4,
 "nbformat_minor": 4
}
