{
 "cells": [
  {
   "cell_type": "markdown",
   "metadata": {},
   "source": [
    "- date: 2021-08-12 10:17:17\n",
    "- author: Jerry Su\n",
    "- slug: Numpy-np.where\n",
    "- title: Numpy np.where\n",
    "- category: \n",
    "- tags: Numpy\n",
    "\n",
    "[TOC]"
   ]
  },
  {
   "cell_type": "code",
   "execution_count": 2,
   "metadata": {},
   "outputs": [],
   "source": [
    "import numpy as np"
   ]
  },
  {
   "cell_type": "code",
   "execution_count": 37,
   "metadata": {},
   "outputs": [
    {
     "data": {
      "text/plain": [
       "array([[[ 0.75522985,  0.75705722, -0.36925089,  0.86620857],\n",
       "        [-0.4174211 , -0.36308435,  0.98568016, -0.44886813],\n",
       "        [ 0.28443286,  0.71100813,  0.79377422,  0.96208261],\n",
       "        [ 0.79448971, -0.39912178,  0.72051454,  0.24923677]],\n",
       "\n",
       "       [[-0.66092566,  0.76876289,  0.50473514,  0.18878562],\n",
       "        [ 0.1041725 ,  0.92939518,  0.72846323,  0.15859054],\n",
       "        [-0.56339527,  0.02153888, -0.76440716, -0.73993331],\n",
       "        [ 0.45476065, -0.75519827,  0.90017872, -0.45515793]]])"
      ]
     },
     "execution_count": 37,
     "metadata": {},
     "output_type": "execute_result"
    }
   ],
   "source": [
    "scores = -1 + 2 * np.random.random(size=(2, 4, 4)) #  随机生成[-1, 1]之间小数\n",
    "scores"
   ]
  },
  {
   "cell_type": "code",
   "execution_count": 38,
   "metadata": {},
   "outputs": [
    {
     "data": {
      "text/plain": [
       "(array([0, 0, 0, 0, 0, 0, 0, 0, 0, 1, 1, 1, 1, 1]),\n",
       " array([0, 0, 0, 1, 2, 2, 2, 3, 3, 0, 0, 1, 1, 3]),\n",
       " array([0, 1, 3, 2, 1, 2, 3, 0, 2, 1, 2, 1, 2, 2]))"
      ]
     },
     "execution_count": 38,
     "metadata": {},
     "output_type": "execute_result"
    }
   ],
   "source": [
    "locs = np.where(scores > 0.5)\n",
    "locs"
   ]
  },
  {
   "cell_type": "code",
   "execution_count": 39,
   "metadata": {},
   "outputs": [
    {
     "name": "stdout",
     "output_type": "stream",
     "text": [
      "0 0 0\n",
      "0 0 1\n",
      "0 0 3\n",
      "0 1 2\n",
      "0 2 1\n",
      "0 2 2\n",
      "0 2 3\n",
      "0 3 0\n",
      "0 3 2\n",
      "1 0 1\n",
      "1 0 2\n",
      "1 1 1\n",
      "1 1 2\n",
      "1 3 2\n"
     ]
    }
   ],
   "source": [
    "for dim0, dim1, dim2 in zip(*locs):\n",
    "    print(dim0, dim1, dim2)"
   ]
  }
 ],
 "metadata": {
  "kernelspec": {
   "display_name": "Python [conda env:blog] *",
   "language": "python",
   "name": "conda-env-blog-py"
  },
  "language_info": {
   "codemirror_mode": {
    "name": "ipython",
    "version": 3
   },
   "file_extension": ".py",
   "mimetype": "text/x-python",
   "name": "python",
   "nbconvert_exporter": "python",
   "pygments_lexer": "ipython3",
   "version": "3.8.3"
  }
 },
 "nbformat": 4,
 "nbformat_minor": 4
}
