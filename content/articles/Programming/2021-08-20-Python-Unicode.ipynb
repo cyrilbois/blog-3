{
 "cells": [
  {
   "cell_type": "markdown",
   "metadata": {},
   "source": [
    "- date: 2021-08-20 10:17:17\n",
    "- author: Jerry Su\n",
    "- slug: Python-Unicode\n",
    "- title: Python Unicode\n",
    "- category: \n",
    "- tags: Python"
   ]
  },
  {
   "cell_type": "code",
   "execution_count": 71,
   "metadata": {},
   "outputs": [],
   "source": [
    "# http://www.unicode.org/reports/tr44/#GC_Values_Table\n",
    "import unicodedata"
   ]
  },
  {
   "cell_type": "code",
   "execution_count": 26,
   "metadata": {},
   "outputs": [
    {
     "data": {
      "text/plain": [
       "'12.1.0'"
      ]
     },
     "execution_count": 26,
     "metadata": {},
     "output_type": "execute_result"
    }
   ],
   "source": [
    "unicodedata.unidata_version"
   ]
  },
  {
   "cell_type": "code",
   "execution_count": 72,
   "metadata": {},
   "outputs": [
    {
     "name": "stdout",
     "output_type": "stream",
     "text": [
      "Po\n",
      "Pd\n",
      "Po\n",
      "Zs\n",
      "Ll\n",
      "Mn\n",
      "Mn\n",
      "Mn\n",
      "Mn\n",
      "Mn\n",
      "Mn\n",
      "Mn\n",
      "Mn\n",
      "Mn\n",
      "Mn\n",
      "Mn\n",
      "Mn\n",
      "Mn\n",
      "Mn\n",
      "Mn\n",
      "Mn\n",
      "Mn\n",
      "Mn\n",
      "Mn\n"
     ]
    }
   ],
   "source": [
    "# unicode类型枚举\n",
    "# https://www.fileformat.info/info/unicode/category/index.htm\n",
    "\n",
    "print(unicodedata.category('.'))\n",
    "print(unicodedata.category('-'))\n",
    "print(unicodedata.category(','))\n",
    "print(unicodedata.category(' '))\n",
    "#unicodedata.category('a๎๎๎๎๎๎๎๎๎๎๎๎๎๎๎๎๎๎๎')\n",
    "for ch in 'a๎๎๎๎๎๎๎๎๎๎๎๎๎๎๎๎๎๎๎':\n",
    "    print(unicodedata.category(ch))"
   ]
  },
  {
   "cell_type": "code",
   "execution_count": 54,
   "metadata": {},
   "outputs": [
    {
     "name": "stdout",
     "output_type": "stream",
     "text": [
      "32\n",
      "10\n",
      "13\n",
      "9\n"
     ]
    }
   ],
   "source": [
    "# http://c.biancheng.net/c/ascii/\n",
    "# ord()返回十进制\n",
    "print(ord(' '))\n",
    "print(ord('\\n'))\n",
    "print(ord('\\r'))\n",
    "print(ord('\\t'))"
   ]
  },
  {
   "cell_type": "code",
   "execution_count": 59,
   "metadata": {},
   "outputs": [
    {
     "name": "stdout",
     "output_type": "stream",
     "text": [
      "True\n",
      "True\n",
      "True\n",
      "True\n",
      "False\n"
     ]
    }
   ],
   "source": [
    "# 判断空格\n",
    "def is_space(ch):\n",
    "    \"\"\"空格类字符判断判断。\n",
    "    \n",
    "    空格字符包括：' ', '\\n', '\\t', 'r'\n",
    "    \"\"\"\n",
    "    return ch == ' ' or \\\n",
    "           ch == '\\t' or \\\n",
    "           ch == '\\r' or \\\n",
    "           ch == '\\n' or \\\n",
    "           unicodedata.category(ch) == 'Zs'  # [Zs] Separator, Space\n",
    "\n",
    "print(is_space(' '))\n",
    "print(is_space('\\n'))\n",
    "print(is_space('\\r'))\n",
    "print(is_space('\\t'))\n",
    "print(is_space('A'))"
   ]
  },
  {
   "cell_type": "code",
   "execution_count": 61,
   "metadata": {},
   "outputs": [
    {
     "data": {
      "text/plain": [
       "True"
      ]
     },
     "execution_count": 61,
     "metadata": {},
     "output_type": "execute_result"
    }
   ],
   "source": [
    "# 判断标点符号\n",
    "def is_punctuation(ch):\n",
    "    \"\"\"标点符号类字符判断（包含全/半角）。\n",
    "    \n",
    "    [33, 47]    ! \" # $ % & ' ( ) * + , - . /\n",
    "    [58, 64]    : ; < = > ? @\n",
    "    [91, 96]    [ \\ ] ^ _ `\n",
    "    [123, 126]  { | } ~\n",
    "    \"\"\"\n",
    "    code = ord(ch)\n",
    "    return 33 <= code <= 47 or \\\n",
    "           58 <= code <= 64 or \\\n",
    "           91 <= code <= 96 or \\\n",
    "           123 <= code <= 126 or \\\n",
    "           unicodedata.category(ch).startswith('P')\n",
    "is_punctuation('?')"
   ]
  },
  {
   "cell_type": "code",
   "execution_count": 95,
   "metadata": {},
   "outputs": [],
   "source": [
    "def is_control(ch):\n",
    "    \"\"\"控制类字符判断\n",
    "    \"\"\"\n",
    "    return unicodedata.category(ch) in ('Cc', 'Cf')"
   ]
  },
  {
   "cell_type": "code",
   "execution_count": 101,
   "metadata": {},
   "outputs": [
    {
     "ename": "SyntaxError",
     "evalue": "unexpected character after line continuation character (<ipython-input-101-c87af0d1a94e>, line 6)",
     "output_type": "error",
     "traceback": [
      "\u001b[0;36m  File \u001b[0;32m\"<ipython-input-101-c87af0d1a94e>\"\u001b[0;36m, line \u001b[0;32m6\u001b[0m\n\u001b[0;31m    return 0x4E00 <= code <= 0x9FFF or \\      # CJK Unified Ideographs, HAN\u001b[0m\n\u001b[0m                                                                           ^\u001b[0m\n\u001b[0;31mSyntaxError\u001b[0m\u001b[0;31m:\u001b[0m unexpected character after line continuation character\n"
     ]
    }
   ],
   "source": [
    "def _is_cjk_character(ch):\n",
    "    \"\"\"CJK类字符判断（包括中文字符也在此列）\n",
    "    参考：https://en.wikipedia.org/wiki/Unicode_block\n",
    "    \"\"\"\n",
    "    code = ord(ch)\n",
    "    return 0x4E00 <= code <= 0x9FFF or \\      # CJK Unified Ideographs, HAN\n",
    "           0x3400 <= code <= 0x4DBF or \\      # CJK Unified Ideographs Extension A, HAN\n",
    "           0x20000 <= code <= 0x2A6DF or \\    # General Punctuation\n",
    "           0x2A700 <= code <= 0x2B73F or \\    # Supplemental Mathematical Operators\n",
    "           0x2B740 <= code <= 0x2B81F or \\    # Miscellaneous Symbols and Arrows\n",
    "           0x2B820 <= code <= 0x2CEAF or \\    # Miscellaneous Symbols and Arrows\n",
    "           0xF900 <= code <= 0xFAFF or \\      # CJK Compatibility Ideographs, HAN\n",
    "           0x2F800 <= code <= 0x2FA1F         # CJK Compatibility Ideographs Supplement, HAN"
   ]
  },
  {
   "cell_type": "code",
   "execution_count": 93,
   "metadata": {},
   "outputs": [
    {
     "name": "stdout",
     "output_type": "stream",
     "text": [
      "Origin: a๎๎๎๎๎๎๎๎๎๎๎๎๎๎๎๎๎๎๎是特殊mn字符～ jerry 中国ustc\n",
      "Normalize: a๎๎๎๎๎๎๎๎๎๎๎๎๎๎๎๎๎๎๎是特殊mn字符～ jerry 中国ustc\n",
      "Text: a是特殊mn字符～ jerry 中国ustc\n"
     ]
    }
   ],
   "source": [
    "\"\"\"分词器\n",
    "\"\"\"\n",
    "\n",
    "text = \"a๎๎๎๎๎๎๎๎๎๎๎๎๎๎๎๎๎๎๎是特殊Mn字符～ jerry 中国USTC\"\n",
    "text = text.lower()\n",
    "print(f'Origin: {text}')\n",
    "\n",
    "# 由于存在Mn字符等一些特殊字符，先规范化normalize，NFD规范分解形式\n",
    "text = unicodedata.normalize('NFD', text)\n",
    "print(f'Normalize: {text}')\n",
    "\n",
    "# 删除Mn字符\n",
    "text = ''.join([ch for ch in text if unicodedata.category(ch) != 'Mn'])\n",
    "print(f'Text: {text}')\n",
    "\n",
    "# "
   ]
  },
  {
   "cell_type": "code",
   "execution_count": 97,
   "metadata": {},
   "outputs": [
    {
     "data": {
      "text/plain": [
       "True"
      ]
     },
     "execution_count": 97,
     "metadata": {},
     "output_type": "execute_result"
    }
   ],
   "source": [
    "ord('万') <= 0x9fff"
   ]
  },
  {
   "cell_type": "code",
   "execution_count": null,
   "metadata": {},
   "outputs": [],
   "source": []
  },
  {
   "cell_type": "code",
   "execution_count": null,
   "metadata": {},
   "outputs": [],
   "source": []
  }
 ],
 "metadata": {
  "kernelspec": {
   "display_name": "Python [conda env:blog] *",
   "language": "python",
   "name": "conda-env-blog-py"
  },
  "language_info": {
   "codemirror_mode": {
    "name": "ipython",
    "version": 3
   },
   "file_extension": ".py",
   "mimetype": "text/x-python",
   "name": "python",
   "nbconvert_exporter": "python",
   "pygments_lexer": "ipython3",
   "version": "3.8.3"
  }
 },
 "nbformat": 4,
 "nbformat_minor": 4
}
