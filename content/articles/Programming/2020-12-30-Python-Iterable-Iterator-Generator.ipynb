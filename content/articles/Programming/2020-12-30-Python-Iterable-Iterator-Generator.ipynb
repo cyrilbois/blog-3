{
 "cells": [
  {
   "cell_type": "markdown",
   "metadata": {},
   "source": [
    "- date: 2020-12-30 10:17:17\n",
    "- author: Jerry Su\n",
    "- slug: Python-Iterable-Iterator-Generator\n",
    "- title: Python - Iterable vs Iterator vs Generator\n",
    "- category: \n",
    "- tags: Python"
   ]
  }
 ],
 "metadata": {
  "kernelspec": {
   "display_name": "Python [conda env:blog] *",
   "language": "python",
   "name": "conda-env-blog-py"
  },
  "language_info": {
   "codemirror_mode": {
    "name": "ipython",
    "version": 3
   },
   "file_extension": ".py",
   "mimetype": "text/x-python",
   "name": "python",
   "nbconvert_exporter": "python",
   "pygments_lexer": "ipython3",
   "version": "3.8.3"
  }
 },
 "nbformat": 4,
 "nbformat_minor": 4
}
