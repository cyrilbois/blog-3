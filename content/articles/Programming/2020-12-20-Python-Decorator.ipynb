{
 "cells": [
  {
   "cell_type": "markdown",
   "metadata": {},
   "source": [
    "- date: 2020-12-20 10:17:17\n",
    "- author: Jerry Su\n",
    "- slug: Python-Decorator\n",
    "- title: Python Decorator\n",
    "- category: \n",
    "- tags: Python"
   ]
  },
  {
   "cell_type": "markdown",
   "metadata": {},
   "source": [
    "## 装饰器何时运行？\n",
    "\n",
    "导入时与运行时：函数装饰器在**导入模块时立即执行**，而被装饰器装饰的函数，只有程序运行时显式调用时才执行。\n",
    "\n",
    "装饰器在实际工程中：\n",
    "\n",
    "- 通常，装饰器在一个py模块中定义，应用到其他py模块的函数上。\n",
    "\n",
    "- 通常，装饰器内部绘重新定义一个函数，将其返回。而非作为装饰器参数的函数。"
   ]
  },
  {
   "cell_type": "code",
   "execution_count": 1,
   "metadata": {},
   "outputs": [
    {
     "name": "stdout",
     "output_type": "stream",
     "text": [
      "running register <function func1 at 0x7fac1e2b6040>\n",
      "running register <function func2 at 0x7fac1e2b61f0>\n"
     ]
    }
   ],
   "source": [
    "registry = []\n",
    "\n",
    "def register(func):\n",
    "    print(f'running register {func}')\n",
    "    registry.append(func)\n",
    "    return func\n",
    "\n",
    "@register\n",
    "def func1():\n",
    "    print('running func1')\n",
    "\n",
    "@register\n",
    "def func2():\n",
    "    print('running func2')\n",
    "    \n",
    "def func3():\n",
    "    print('running fucn3')\n",
    "\n",
    "def main():\n",
    "    print(registry)\n",
    "    func1()\n",
    "    func2()\n",
    "    func3()"
   ]
  },
  {
   "cell_type": "code",
   "execution_count": 2,
   "metadata": {},
   "outputs": [
    {
     "data": {
      "text/plain": [
       "[<function __main__.func1()>, <function __main__.func2()>]"
      ]
     },
     "execution_count": 2,
     "metadata": {},
     "output_type": "execute_result"
    }
   ],
   "source": [
    "registry"
   ]
  },
  {
   "cell_type": "code",
   "execution_count": 4,
   "metadata": {},
   "outputs": [
    {
     "name": "stdout",
     "output_type": "stream",
     "text": [
      "[<function func1 at 0x7fac1e2b6040>, <function func2 at 0x7fac1e2b61f0>]\n",
      "running func1\n",
      "running func2\n",
      "running fucn3\n"
     ]
    }
   ],
   "source": [
    "main()"
   ]
  },
  {
   "cell_type": "markdown",
   "metadata": {},
   "source": [
    "## 闭包\n",
    "\n",
    "多数装饰器会修改被装饰的函数。通常是在装饰器**内部重新定义一个函数**，将其返回，用来替换被装饰的函数。装饰器内部定义函数几乎都需要**闭包**。"
   ]
  }
 ],
 "metadata": {
  "kernelspec": {
   "display_name": "Python [conda env:blog] *",
   "language": "python",
   "name": "conda-env-blog-py"
  },
  "language_info": {
   "codemirror_mode": {
    "name": "ipython",
    "version": 3
   },
   "file_extension": ".py",
   "mimetype": "text/x-python",
   "name": "python",
   "nbconvert_exporter": "python",
   "pygments_lexer": "ipython3",
   "version": "3.8.3"
  }
 },
 "nbformat": 4,
 "nbformat_minor": 4
}
