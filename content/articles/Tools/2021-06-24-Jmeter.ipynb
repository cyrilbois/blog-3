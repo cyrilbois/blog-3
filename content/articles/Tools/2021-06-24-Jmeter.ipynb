{
 "cells": [
  {
   "cell_type": "markdown",
   "metadata": {},
   "source": [
    "- date: 2021-06-24 13:17:17\n",
    "- author: Jerry Su\n",
    "- slug: Jmeter\n",
    "- title: Jmeter\n",
    "- category: \n",
    "- tags: Jmeter, Tools"
   ]
  },
  {
   "cell_type": "markdown",
   "metadata": {},
   "source": [
    "`https://jmeter.apache.org/download_jmeter.cgi`\n",
    "\n",
    "```\n",
    "tar -xzvf apache-jmeter-5.4.1.tgz\n",
    "cd apache-jmeter-5.4.1/bin\n",
    "sh jmeter\n",
    "```"
   ]
  }
 ],
 "metadata": {
  "kernelspec": {
   "display_name": "Python [conda env:blog] *",
   "language": "python",
   "name": "conda-env-blog-py"
  },
  "language_info": {
   "codemirror_mode": {
    "name": "ipython",
    "version": 3
   },
   "file_extension": ".py",
   "mimetype": "text/x-python",
   "name": "python",
   "nbconvert_exporter": "python",
   "pygments_lexer": "ipython3",
   "version": "3.8.3"
  }
 },
 "nbformat": 4,
 "nbformat_minor": 4
}
