{
 "cells": [
  {
   "cell_type": "code",
   "execution_count": null,
   "metadata": {},
   "outputs": [],
   "source": [
    "- date: 2021-09-17 10:17:17\n",
    "- author: Jerry Su\n",
    "- slug: Faiss\n",
    "- title: Faiss\n",
    "- category: \n",
    "- tags: Machine Learning, Faiss"
   ]
  },
  {
   "cell_type": "markdown",
   "metadata": {},
   "source": [
    "1.faiss add是增量增加吗？\n",
    "\n",
    "2.faiss index训练是在每次add新数据，都需要重新训练吗？\n",
    "\n",
    "[https://github.com/facebookresearch/faiss/wiki](https://github.com/facebookresearch/faiss/wiki)\n",
    "\n",
    "[https://github.com/facebookresearch/faiss](https://github.com/facebookresearch/faiss)\n",
    "\n",
    "[推荐召回算法-6如何从十亿数据找出你喜欢的内容-向量检索技术](https://www.bilibili.com/video/BV15v4118753?from=search&seid=9527663759693988199&spm_id_from=333.337.0.0)\n",
    "\n",
    "[使用 Faiss 进行海量特征的相似度匹配](https://bbs.cvmart.net/articles/3887)"
   ]
  },
  {
   "cell_type": "code",
   "execution_count": 3,
   "metadata": {},
   "outputs": [],
   "source": [
    "import faiss\n",
    "import numpy as np"
   ]
  },
  {
   "cell_type": "markdown",
   "metadata": {},
   "source": [
    "### 生成随机数据\n",
    "\n",
    "`Faiss`处理固定维数`d`的向量集合，通常为 10 到 100 秒。 这些集合可以存储在矩阵中。\n",
    "我们假设行优先存储，即。 向量编号 i 的第 j 个分量存储在矩阵的第 i 行、第 j 列中。 `Faiss`仅使用`32`位浮点矩阵。\n",
    "\n",
    "- `xb`用于数据库，它包含所有必须编入索引的向量，我们将在其中进行搜索。大小`nb * d`\n",
    "\n",
    "- `xq`用于查询向量，我们需要找到最近的邻居。大小`nq * d`，单个查询向量`nq = 1`"
   ]
  },
  {
   "cell_type": "code",
   "execution_count": 14,
   "metadata": {},
   "outputs": [],
   "source": [
    "d = 64              # 向量维度\n",
    "nb = 1000           # 数据库大小\n",
    "nq = 10             # 待查询query大小\n",
    "np.random.seed(42)  # 可复现\n",
    "\n",
    "xb = np.random.random((nb, d)).astype('float32')  # 均匀分布，数据类型必须float32\n",
    "xb[:, 0] += np.arange(nb) / 1000                  # 给向量的第0维（即，索引维度）增加一个小的偏移量\n",
    "\n",
    "xq = np.random.random((nq, d)).astype('float32')\n",
    "xq[:, 0] += np.arange(nq) / 1000"
   ]
  },
  {
   "cell_type": "code",
   "execution_count": 11,
   "metadata": {},
   "outputs": [
    {
     "name": "stdout",
     "output_type": "stream",
     "text": [
      "(1000, 64) (10, 64)\n"
     ]
    }
   ],
   "source": [
    "print(xb.shape, xq.shape)"
   ]
  },
  {
   "cell_type": "markdown",
   "metadata": {},
   "source": [
    "### 创建索引并添加数据\n",
    "\n",
    "- `Faiss`是围绕`Index`对象构建的。 它封装了一组数据库向量，并可选择对它们进行预处理以提高搜索效率。 \n",
    "索引有很多种，我们将使用最简单的版本，只对它们执行暴力`L2`距离搜索：`IndexFlatL2`。\n",
    "\n",
    "- 所有索引在创建时都需要知道，操作向量的维数，即d。然后，大多数索引还需要一个训练阶段，以分析向量的分布。\n",
    "对于全量暴力搜索`IndexFlatL2`，可以跳过这个操作。\n",
    "\n",
    "- `Index`创建和训练后，对其都可以执行两个操作：`add`和`search`。"
   ]
  },
  {
   "cell_type": "code",
   "execution_count": null,
   "metadata": {},
   "outputs": [],
   "source": []
  }
 ],
 "metadata": {
  "kernelspec": {
   "display_name": "Python 3 (ipykernel)",
   "language": "python",
   "name": "python3"
  },
  "language_info": {
   "codemirror_mode": {
    "name": "ipython",
    "version": 3
   },
   "file_extension": ".py",
   "mimetype": "text/x-python",
   "name": "python",
   "nbconvert_exporter": "python",
   "pygments_lexer": "ipython3",
   "version": "3.8.3"
  }
 },
 "nbformat": 4,
 "nbformat_minor": 2
}
