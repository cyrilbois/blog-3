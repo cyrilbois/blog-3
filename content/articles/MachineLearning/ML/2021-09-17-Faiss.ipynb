{
 "cells": [
  {
   "cell_type": "markdown",
   "metadata": {},
   "source": [
    "- date: 2021-09-17 10:17:17\n",
    "- author: Jerry Su\n",
    "- slug: Faiss\n",
    "- title: Faiss\n",
    "- category: \n",
    "- tags: Machine Learning\n",
    "\n",
    "[推荐召回算法-6如何从十亿数据找出你喜欢的内容-向量检索技术](https://www.bilibili.com/video/BV15v4118753?from=search&seid=9527663759693988199&spm_id_from=333.337.0.0)\n",
    "\n",
    "[使用 Faiss 进行海量特征的相似度匹配](https://bbs.cvmart.net/articles/3887)"
   ]
  },
  {
   "cell_type": "code",
   "execution_count": 1,
   "metadata": {},
   "outputs": [],
   "source": [
    "import faiss\n",
    "import numpy as np"
   ]
  },
  {
   "cell_type": "code",
   "execution_count": null,
   "metadata": {},
   "outputs": [],
   "source": []
  }
 ],
 "metadata": {
  "kernelspec": {
   "display_name": "Python 3 (ipykernel)",
   "language": "python",
   "name": "python3"
  },
  "language_info": {
   "codemirror_mode": {
    "name": "ipython",
    "version": 3
   },
   "file_extension": ".py",
   "mimetype": "text/x-python",
   "name": "python",
   "nbconvert_exporter": "python",
   "pygments_lexer": "ipython3",
   "version": "3.8.3"
  }
 },
 "nbformat": 4,
 "nbformat_minor": 2
}
