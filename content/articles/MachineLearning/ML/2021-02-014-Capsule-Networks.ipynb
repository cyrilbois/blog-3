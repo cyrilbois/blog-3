{
 "cells": [
  {
   "cell_type": "markdown",
   "metadata": {},
   "source": [
    "- date: 2021-02-14 10:17:17\n",
    "- author: Jerry Su\n",
    "- slug: Capsule-Networks\n",
    "- title: Capsule Networks\n",
    "- category: \n",
    "- tags: Deep Learning"
   ]
  },
  {
   "cell_type": "markdown",
   "metadata": {},
   "source": [
    "[https://www.youtube.com/watch?v=sotRFRpEJFg](https://www.youtube.com/watch?v=sotRFRpEJFg)"
   ]
  },
  {
   "cell_type": "code",
   "execution_count": 16,
   "metadata": {
    "scrolled": false
   },
   "outputs": [
    {
     "data": {
      "text/html": [
       "<iframe width=\"1024\" height=\"560\" src=\"https://www.bilibili.com/video/BV1eW411Q7CE?from=search&seid=7299769468991443060\" frameborder=\"0\" allowfullscreen></iframe>"
      ],
      "text/plain": [
       "<IPython.core.display.HTML object>"
      ]
     },
     "execution_count": 16,
     "metadata": {},
     "output_type": "execute_result"
    }
   ],
   "source": [
    "from IPython.display import HTML\n",
    "HTML(\"\"\"<iframe width=\"1024\" height=\"560\" src=\"https://www.bilibili.com/video/BV1eW411Q7CE?from=search&seid=7299769468991443060\" frameborder=\"0\" allowfullscreen></iframe>\"\"\")"
   ]
  }
 ],
 "metadata": {
  "kernelspec": {
   "display_name": "Python [conda env:blog] *",
   "language": "python",
   "name": "conda-env-blog-py"
  },
  "language_info": {
   "codemirror_mode": {
    "name": "ipython",
    "version": 3
   },
   "file_extension": ".py",
   "mimetype": "text/x-python",
   "name": "python",
   "nbconvert_exporter": "python",
   "pygments_lexer": "ipython3",
   "version": "3.8.3"
  }
 },
 "nbformat": 4,
 "nbformat_minor": 2
}
