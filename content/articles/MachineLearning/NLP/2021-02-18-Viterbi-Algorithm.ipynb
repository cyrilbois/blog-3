{
 "cells": [
  {
   "cell_type": "markdown",
   "metadata": {},
   "source": [
    "- date: 2021-02-18 10:17:17\n",
    "- author: Jerry Su\n",
    "- slug: Viterbi-Algorithm\n",
    "- title: Viterbi Algorithm\n",
    "- category: \n",
    "- tags: Deep Learning, NLP, Viterbi, Algorithm"
   ]
  },
  {
   "cell_type": "markdown",
   "metadata": {},
   "source": [
    "- 篱笆网络\n",
    "\n",
    "篱笆网络有向图的特点是同一列节点有多个，并且和上一列节点交错地连接起来。同一列节点代表同一个时间点上不同的状态的并列，因为这种一列一列整齐的节点和交错的边很像篱笆而得名。\n",
    "\n",
    "篱笆网络的特点：有向、无环图，上一层节点只能指向下一层节点。\n",
    "\n",
    "L:序列长度，N:标签数\n",
    "\n",
    "穷举法: O(L^N)\n",
    "\n",
    "Viterbi法: O(L*N^2)\n",
    "\n",
    "- Viterbi Algorithm\n",
    "\n",
    "Viterbi算法解决篱笆型有向图的最短路径问题。\n",
    "\n",
    "Viterbi算法本质：动态规划+回溯，找到最优选择路径。\n",
    "\n",
    "凡是使用隐含马尔可夫模型描述的问题都可以用Viteribi法来解码，包括今天的数字通信、语音识别、机器翻译、拼音转汉字、分词等。—《数学之美》\n",
    "\n",
    "- Viterbi与HMM的关系？\n",
    "\n",
    "Viterbi是解决HMM第三个问题的一种具体实现算法。\n",
    "\n",
    "\n",
    "[通俗讲解Viterbi](https://www.zhihu.com/question/20136144)\n",
    "\n",
    "[https://wulc.me/2017/03/02/%E7%BB%B4%E7%89%B9%E6%AF%94%E7%AE%97%E6%B3%95/](https://wulc.me/2017/03/02/%E7%BB%B4%E7%89%B9%E6%AF%94%E7%AE%97%E6%B3%95/)"
   ]
  },
  {
   "cell_type": "markdown",
   "metadata": {},
   "source": [
    "### 迭代法"
   ]
  },
  {
   "cell_type": "markdown",
   "metadata": {},
   "source": [
    "### 矩阵法"
   ]
  },
  {
   "cell_type": "code",
   "execution_count": null,
   "metadata": {},
   "outputs": [],
   "source": []
  }
 ],
 "metadata": {
  "kernelspec": {
   "display_name": "Python [conda env:blog] *",
   "language": "python",
   "name": "conda-env-blog-py"
  },
  "language_info": {
   "codemirror_mode": {
    "name": "ipython",
    "version": 3
   },
   "file_extension": ".py",
   "mimetype": "text/x-python",
   "name": "python",
   "nbconvert_exporter": "python",
   "pygments_lexer": "ipython3",
   "version": "3.8.3"
  }
 },
 "nbformat": 4,
 "nbformat_minor": 2
}
