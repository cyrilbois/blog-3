{
 "cells": [
  {
   "cell_type": "markdown",
   "metadata": {},
   "source": [
    "- date: 2021-08-20 10:17:17\n",
    "- author: Jerry Su\n",
    "- slug: NLP-Unicode-Tokenizer\n",
    "- title: NLP Unicode Tokenizer\n",
    "- category: \n",
    "- tags: Python, NLP"
   ]
  },
  {
   "cell_type": "code",
   "execution_count": 104,
   "metadata": {},
   "outputs": [],
   "source": [
    "# http://www.unicode.org/reports/tr44/#GC_Values_Table\n",
    "import unicodedata"
   ]
  },
  {
   "cell_type": "code",
   "execution_count": 105,
   "metadata": {},
   "outputs": [
    {
     "data": {
      "text/plain": [
       "'12.1.0'"
      ]
     },
     "execution_count": 105,
     "metadata": {},
     "output_type": "execute_result"
    }
   ],
   "source": [
    "unicodedata.unidata_version"
   ]
  },
  {
   "cell_type": "code",
   "execution_count": 106,
   "metadata": {},
   "outputs": [
    {
     "name": "stdout",
     "output_type": "stream",
     "text": [
      "Po\n",
      "Pd\n",
      "Po\n",
      "Zs\n",
      "Ll\n",
      "Mn\n",
      "Mn\n",
      "Mn\n",
      "Mn\n",
      "Mn\n",
      "Mn\n",
      "Mn\n",
      "Mn\n",
      "Mn\n",
      "Mn\n",
      "Mn\n",
      "Mn\n",
      "Mn\n",
      "Mn\n",
      "Mn\n",
      "Mn\n",
      "Mn\n",
      "Mn\n",
      "Mn\n"
     ]
    }
   ],
   "source": [
    "# unicode类型枚举\n",
    "# https://www.fileformat.info/info/unicode/category/index.htm\n",
    "\n",
    "print(unicodedata.category('.'))\n",
    "print(unicodedata.category('-'))\n",
    "print(unicodedata.category(','))\n",
    "print(unicodedata.category(' '))\n",
    "#unicodedata.category('a๎๎๎๎๎๎๎๎๎๎๎๎๎๎๎๎๎๎๎')\n",
    "for ch in 'a๎๎๎๎๎๎๎๎๎๎๎๎๎๎๎๎๎๎๎':\n",
    "    print(unicodedata.category(ch))"
   ]
  },
  {
   "cell_type": "code",
   "execution_count": 107,
   "metadata": {},
   "outputs": [
    {
     "name": "stdout",
     "output_type": "stream",
     "text": [
      "32\n",
      "10\n",
      "13\n",
      "9\n"
     ]
    }
   ],
   "source": [
    "# http://c.biancheng.net/c/ascii/\n",
    "# ord()返回十进制\n",
    "print(ord(' '))\n",
    "print(ord('\\n'))\n",
    "print(ord('\\r'))\n",
    "print(ord('\\t'))"
   ]
  },
  {
   "cell_type": "code",
   "execution_count": 108,
   "metadata": {},
   "outputs": [
    {
     "name": "stdout",
     "output_type": "stream",
     "text": [
      "True\n",
      "True\n",
      "True\n",
      "True\n",
      "False\n"
     ]
    }
   ],
   "source": [
    "# 判断空格\n",
    "def is_space(ch):\n",
    "    \"\"\"空格类字符判断判断。\n",
    "    \n",
    "    空格字符包括：' ', '\\n', '\\t', 'r'\n",
    "    \"\"\"\n",
    "    return ch == ' ' or \\\n",
    "           ch == '\\t' or \\\n",
    "           ch == '\\r' or \\\n",
    "           ch == '\\n' or \\\n",
    "           unicodedata.category(ch) == 'Zs'  # [Zs] Separator, Space\n",
    "\n",
    "print(is_space(' '))\n",
    "print(is_space('\\n'))\n",
    "print(is_space('\\r'))\n",
    "print(is_space('\\t'))\n",
    "print(is_space('A'))"
   ]
  },
  {
   "cell_type": "code",
   "execution_count": 196,
   "metadata": {},
   "outputs": [
    {
     "data": {
      "text/plain": [
       "'Sm'"
      ]
     },
     "execution_count": 196,
     "metadata": {},
     "output_type": "execute_result"
    }
   ],
   "source": [
    "# 判断标点符号\n",
    "def is_punctuation(ch):\n",
    "    \"\"\"标点符号类字符判断（包含全/半角）。\n",
    "    英文标点符号是半角，中文标点符号是全角。全角占一个字符，半角占两个字符。\n",
    "    \n",
    "    [33, 47]    ! \" # $ % & ' ( ) * + , - . /\n",
    "    [58, 64]    : ; < = > ? @\n",
    "    [91, 96]    [ \\ ] ^ _ `\n",
    "    [123, 126]  { | } ~\n",
    "    \n",
    "    unicodedata.category.(ch).startswith('P')\n",
    "    # https://www.fileformat.info/info/unicode/category/index.htm]\n",
    "    # 包含了所有标点符号[Pc][Pd][Pe][Pf][Pi][Po][Ps]\n",
    "    \"\"\"\n",
    "    code = ord(ch)\n",
    "    return 33 <= code <= 47 or \\\n",
    "           58 <= code <= 64 or \\\n",
    "           91 <= code <= 96 or \\\n",
    "           123 <= code <= 126 or \\\n",
    "           unicodedata.category(ch).startswith('P')\n",
    "is_punctuation('？') # 中文？号\n",
    "unicodedata.category('∫')"
   ]
  },
  {
   "cell_type": "code",
   "execution_count": 125,
   "metadata": {},
   "outputs": [],
   "source": [
    "def is_control(ch):\n",
    "    \"\"\"控制类字符判断\n",
    "    https://en.wikipedia.org/wiki/Control_character\n",
    "    https://www.fileformat.info/info/unicode/category/Cc/index.htm\n",
    "    https://www.fileformat.info/info/unicode/category/Cf/index.htm\n",
    "    \n",
    "    \"\"\"\n",
    "    return unicodedata.category(ch) in ('Cc', 'Cf')"
   ]
  },
  {
   "cell_type": "code",
   "execution_count": 147,
   "metadata": {},
   "outputs": [],
   "source": [
    "def is_cjk_character(ch):\n",
    "    \"\"\"CJK类字符判断（包括中文字符也在此列）\n",
    "    参考：https://en.wikipedia.org/wiki/Unicode_block\n",
    "    \n",
    "    # CJK Unified Ideographs, HAN\n",
    "    # CJK Unified Ideographs Extension A, HAN\n",
    "    # General Punctuation\n",
    "    # Supplemental Mathematical Operators\n",
    "    # Miscellaneous Symbols and Arrows\n",
    "    # Miscellaneous Symbols and Arrows\n",
    "    # CJK Compatibility Ideographs, HAN\n",
    "    # CJK Compatibility Ideographs Supplement, HAN\n",
    "    \"\"\"\n",
    "    code = ord(ch)\n",
    "    return 0x4E00 <= code <= 0x9FFF or \\\n",
    "           0x3400 <= code <= 0x4DBF or \\\n",
    "           0x20000 <= code <= 0x2A6DF or \\\n",
    "           0x2A700 <= code <= 0x2B73F or \\\n",
    "           0x2B740 <= code <= 0x2B81F or \\\n",
    "           0x2B820 <= code <= 0x2CEAF or \\\n",
    "           0xF900 <= code <= 0xFAFF or \\\n",
    "           0x2F800 <= code <= 0x2FA1F"
   ]
  },
  {
   "cell_type": "code",
   "execution_count": 195,
   "metadata": {},
   "outputs": [
    {
     "name": "stdout",
     "output_type": "stream",
     "text": [
      "Origin: a๎๎๎๎๎๎๎๎๎๎๎๎๎๎๎๎๎๎๎b是特殊mn字符12∫3.4! 56~ jerry！ 数学符号🤌中国ustc : 58\n",
      "Normalize: a๎๎๎๎๎๎๎๎๎๎๎๎๎๎๎๎๎๎๎b是特殊mn字符12∫3.4! 56~ jerry！ 数学符号🤌中国ustc : 58\n",
      "Text: ab是特殊mn字符12∫3.4! 56~ jerry！ 数学符号🤌中国ustc : 39\n",
      "Spaced text: ab 是  特  殊 mn 字  符 12∫3 . 4 !  56 ~  jerry ！   数  学  符  号 🤌 中  国 ustc\n"
     ]
    }
   ],
   "source": [
    "\"\"\"分词器\n",
    "\"\"\"\n",
    "\n",
    "text = \"a๎๎๎๎๎๎๎๎๎๎๎๎๎๎๎๎๎๎๎b是特殊Mn字符123.4! 56~ jerry！ 数学符号🤌中国USTC\"\n",
    "text = text.lower()\n",
    "print(f'Origin: {text} : {len(text)}')\n",
    "\n",
    "# 由于存在Mn字符等一些特殊字符，先规范化normalize，NFD规范分解形式\n",
    "text = unicodedata.normalize('NFD', text)\n",
    "print(f'Normalize: {text} : {len(text)}')\n",
    "\n",
    "# 删除Mn字符\n",
    "text = ''.join([ch for ch in text if unicodedata.category(ch) != 'Mn'])\n",
    "print(f'Text: {text} : {len(text)}')\n",
    "\n",
    "\n",
    "# 空格分隔文本\n",
    "spaced = ''\n",
    "for ch in text:\n",
    "    # 标点符合和cjk字符，前后空格分隔\n",
    "    if is_punctuation(ch) or is_cjk_character(ch):\n",
    "        spaced += ' ' + ch + ' '\n",
    "    # 空格，即置空格\n",
    "    elif is_space(ch):   \n",
    "        spaced += ' '\n",
    "    # 删除0(NULL)，0xfffd，控制字符，这些字符均是不可见，无法显示的\n",
    "    elif ord(ch) == 0 or ord(ch) == 0xfffd or is_control(ch):  \n",
    "        continue\n",
    "    # 数字/英文字母/数学符号，直接拼接\n",
    "    else:    \n",
    "        spaced += ch\n",
    "print(f'Spaced text: {spaced}')"
   ]
  },
  {
   "cell_type": "code",
   "execution_count": null,
   "metadata": {},
   "outputs": [],
   "source": []
  }
 ],
 "metadata": {
  "kernelspec": {
   "display_name": "Python [conda env:blog] *",
   "language": "python",
   "name": "conda-env-blog-py"
  },
  "language_info": {
   "codemirror_mode": {
    "name": "ipython",
    "version": 3
   },
   "file_extension": ".py",
   "mimetype": "text/x-python",
   "name": "python",
   "nbconvert_exporter": "python",
   "pygments_lexer": "ipython3",
   "version": "3.8.3"
  }
 },
 "nbformat": 4,
 "nbformat_minor": 4
}
