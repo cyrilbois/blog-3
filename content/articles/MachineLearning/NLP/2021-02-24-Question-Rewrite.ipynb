{
 "cells": [
  {
   "cell_type": "markdown",
   "metadata": {},
   "source": [
    "- date: 2021-02-24 10:17:17\n",
    "- author: Jerry Su\n",
    "- slug: Question-Rewrite\n",
    "- title: Question Rewrite\n",
    "- category: \n",
    "- tags: Deep Learning, NLP"
   ]
  },
  {
   "cell_type": "markdown",
   "metadata": {},
   "source": [
    "话术重写器\n",
    "\n",
    "解决指代消解与实体省略问题\n",
    "\n",
    "- [Hui Su, Xiaoyu Shen, Rongzhi Zhang, Fei Sun, Pengwei Hu, Cheng Niu, and Jie Zhou. 2019. Improving Multi-turn Dialogue Modelling with Utterance ReWriter.arXiv preprint arXiv:1906.07004 (2019).](https://arxiv.org/pdf/1906.07004.pdf)\n",
    "\n",
    "- [Svitlana Vakulenko, Shayne Longpre, Zhucheng Tu, and Raviteja Anantha. 2020. Question Rewriting for Conversational Question Answering. ArXivabs/2004.14652 (2020).](https://arxiv.org/pdf/2004.14652.pdf)\n",
    "\n",
    "- [Ahmed Elgohary, Denis Peskov, and Jordan L. BoydGraber. 2019. Can you unpack that? learning to\n",
    "rewrite questions-in-context. In EMNLP.](https://par.nsf.gov/servlets/purl/10132986)"
   ]
  }
 ],
 "metadata": {
  "kernelspec": {
   "display_name": "Python [conda env:blog] *",
   "language": "python",
   "name": "conda-env-blog-py"
  },
  "language_info": {
   "codemirror_mode": {
    "name": "ipython",
    "version": 3
   },
   "file_extension": ".py",
   "mimetype": "text/x-python",
   "name": "python",
   "nbconvert_exporter": "python",
   "pygments_lexer": "ipython3",
   "version": "3.8.3"
  }
 },
 "nbformat": 4,
 "nbformat_minor": 2
}
