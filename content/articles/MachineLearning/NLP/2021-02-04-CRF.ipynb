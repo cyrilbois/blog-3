{
 "cells": [
  {
   "cell_type": "markdown",
   "metadata": {},
   "source": [
    "- date: 2021-02-04 10:17:17\n",
    "- author: Jerry Su\n",
    "- slug: Conditional-Random-Field\n",
    "- title: ConditionalRandomField\n",
    "- category: \n",
    "- tags: Deep Learning, Pytorch, NLP"
   ]
  },
  {
   "cell_type": "code",
   "execution_count": 36,
   "metadata": {},
   "outputs": [],
   "source": [
    "import torch\n",
    "from torch import nn"
   ]
  },
  {
   "cell_type": "code",
   "execution_count": 144,
   "metadata": {},
   "outputs": [],
   "source": [
    "# BMES四位序列标注法\n",
    "PADDING = 0\n",
    "B = 2\n",
    "E = 3\n",
    "S = 4\n",
    "M = 5\n",
    "START = 6\n",
    "END = 7\n",
    "\n",
    "LABEL_VOCAB = {0: '<pad>', 1: '<unk>', 2: 'B', 3: 'E', 4: 'S', 5: 'M'}\n",
    "\n",
    "NUM_TAGS = 8"
   ]
  },
  {
   "cell_type": "markdown",
   "metadata": {},
   "source": [
    "## 1.1 Initialize Input"
   ]
  },
  {
   "cell_type": "code",
   "execution_count": 145,
   "metadata": {},
   "outputs": [
    {
     "name": "stdout",
     "output_type": "stream",
     "text": [
      "logits:\n",
      " tensor([[[ 1.0642e+00,  1.3428e+00, -2.9033e-01,  1.2010e+00,  1.9096e+00,\n",
      "          -7.4157e-01],\n",
      "         [ 5.9740e-01, -1.7286e-01,  7.1238e-01, -1.1167e+00,  3.8874e-01,\n",
      "          -2.3098e-01],\n",
      "         [-5.7265e-02,  9.0805e-01, -1.3484e+00,  8.4410e-01,  7.1468e-01,\n",
      "          -8.3558e-01],\n",
      "         [ 3.1047e-01, -1.8642e+00,  1.5984e-01,  1.3603e+00, -2.2918e+00,\n",
      "          -2.9508e-01],\n",
      "         [ 6.9469e-01,  3.5199e-01, -1.1742e+00,  1.1912e+00, -9.1062e-01,\n",
      "          -5.7808e-01],\n",
      "         [ 5.8577e-01, -1.2518e+00,  1.6601e-01, -7.7357e-01,  1.3718e+00,\n",
      "          -1.1598e+00],\n",
      "         [ 5.3231e-01,  4.9077e-01, -2.2624e-02, -1.1507e+00, -2.0269e+00,\n",
      "           1.0734e+00],\n",
      "         [-4.8735e-02,  5.8399e-01, -1.2517e-01, -6.9643e-01, -6.7877e-01,\n",
      "          -1.7191e+00],\n",
      "         [ 8.2640e-01, -8.9425e-01, -1.7231e-01,  2.9305e-01,  1.0767e+00,\n",
      "           2.7385e-01]],\n",
      "\n",
      "        [[-3.6398e-01,  8.9014e-01,  6.6145e-01,  4.8513e-01, -1.1231e-01,\n",
      "           2.6683e-01],\n",
      "         [-8.9236e-01, -6.3087e-01, -1.8109e+00, -4.2708e-02,  6.2194e-01,\n",
      "          -1.6622e+00],\n",
      "         [ 4.5473e-03, -1.4572e-01,  2.9971e-01,  3.3933e-02, -1.3370e+00,\n",
      "          -1.2547e-02],\n",
      "         [ 1.9656e+00,  4.8807e-02, -1.1919e-01, -1.7492e-01,  5.2277e-01,\n",
      "           1.3617e+00],\n",
      "         [-8.4011e-01,  2.4954e+00,  2.8895e-01, -1.0445e+00,  1.1687e+00,\n",
      "          -1.2910e-03],\n",
      "         [ 1.4631e+00,  1.5681e+00,  1.3817e+00, -4.5405e-02,  3.4875e-01,\n",
      "          -6.2052e-01],\n",
      "         [-1.4679e+00,  2.4648e-01,  1.6942e+00, -7.5459e-01,  6.2267e-01,\n",
      "           7.7670e-01],\n",
      "         [ 5.3792e-01, -8.5966e-01,  3.7131e-03,  6.0990e-01,  1.0447e+00,\n",
      "          -3.0661e+00],\n",
      "         [ 1.2367e-04,  1.0061e+00,  1.2379e+00, -1.5389e+00,  1.4789e-03,\n",
      "          -1.2917e+00]],\n",
      "\n",
      "        [[-5.6488e-01, -1.4988e+00,  1.6118e-01,  1.2986e-01, -2.2415e-01,\n",
      "          -8.8290e-01],\n",
      "         [-1.1871e+00, -5.5591e-02,  1.9792e-01,  3.0789e-01,  1.7041e-01,\n",
      "          -4.4772e-01],\n",
      "         [-3.6679e-01,  6.9311e-01, -7.1726e-01,  1.5594e+00,  8.7796e-01,\n",
      "           1.4986e-01],\n",
      "         [ 8.8201e-01,  3.3584e-01, -4.6741e-01, -5.9479e-01, -2.3043e-01,\n",
      "          -6.6075e-01],\n",
      "         [ 6.1429e-01, -4.8914e-01, -9.3236e-01, -1.4807e+00,  7.3447e-01,\n",
      "           4.7604e-01],\n",
      "         [-9.3514e-01, -2.5008e+00, -9.3829e-01,  1.9931e+00, -1.8341e+00,\n",
      "           1.5226e+00],\n",
      "         [ 2.4210e+00,  4.5116e-01, -9.0556e-02,  1.9593e+00, -1.2719e+00,\n",
      "          -4.6823e-01],\n",
      "         [ 4.9796e-02,  1.4512e+00,  7.2881e-01,  4.4664e-01,  1.8583e+00,\n",
      "           4.3346e-01],\n",
      "         [-8.1781e-01, -2.0914e+00, -3.3725e-01,  9.7346e-01, -4.2102e-01,\n",
      "          -5.4875e-01]]])\n",
      "\n",
      "tags:\n",
      " tensor([[6, 4, 2, 5, 5, 3, 4, 7, 0],\n",
      "        [6, 4, 2, 3, 4, 4, 7, 0, 0],\n",
      "        [6, 2, 5, 3, 4, 7, 0, 0, 0]])\n",
      "\n",
      "mask:\n",
      " tensor([[1, 1, 1, 1, 1, 1, 1, 1, 0],\n",
      "        [1, 1, 1, 1, 1, 1, 1, 0, 0],\n",
      "        [1, 1, 1, 1, 1, 1, 0, 0, 0]])\n"
     ]
    }
   ],
   "source": [
    "# batch_size x max_len x num_tags : (2, 9, 6)\n",
    "\n",
    "logits = torch.randn(3, 9, 6)\n",
    "print(f\"logits:\\n {logits}\\n\")\n",
    "tags = torch.tensor([[6, 4, 2, 5, 5, 3, 4, 7, 0],\n",
    "                     [6, 4, 2, 3, 4, 4, 7, 0, 0],\n",
    "                     [6, 2, 5, 3, 4, 7, 0, 0, 0]])\n",
    "print(f\"tags:\\n {tags}\\n\")\n",
    "mask = torch.tensor([[1, 1, 1, 1, 1, 1, 1, 1, 0],\n",
    "                     [1, 1, 1, 1, 1, 1, 1, 0, 0],\n",
    "                     [1, 1, 1, 1, 1, 1, 0, 0, 0]])\n",
    "print(f\"mask:\\n {mask}\")"
   ]
  },
  {
   "cell_type": "code",
   "execution_count": 146,
   "metadata": {},
   "outputs": [],
   "source": [
    "logits = logits.transpose(0, 1)\n",
    "tags = tags.transpose(0, 1).long()\n",
    "mask = mask.transpose(0, 1).float()"
   ]
  },
  {
   "cell_type": "code",
   "execution_count": 147,
   "metadata": {},
   "outputs": [
    {
     "data": {
      "text/plain": [
       "Parameter containing:\n",
       "tensor([[ 0.6696, -0.4195,  0.4738,  0.0122, -0.8303,  0.0965,  1.9076, -1.9062],\n",
       "        [ 0.9474,  0.7148,  1.0506,  0.0498,  0.0609, -0.6184,  1.4469, -0.5844],\n",
       "        [-1.6855,  1.0079,  0.7865,  1.1741,  0.3916,  0.6720,  1.5643, -1.2791],\n",
       "        [-0.7378, -0.5273,  1.1768,  0.6547, -1.2442,  0.0211,  1.2717, -0.5409],\n",
       "        [ 1.7773,  0.1156,  1.4798, -0.7249,  0.0326,  0.5933, -1.1687,  0.3685],\n",
       "        [-1.4618,  0.5730,  0.5229, -1.3505,  0.3255,  1.2817,  1.3270, -0.4554],\n",
       "        [-0.6263, -1.0785,  1.3931,  0.0338,  0.3113,  0.2079, -1.0331,  0.3655],\n",
       "        [ 3.1040, -1.7638,  0.3538,  0.0175,  0.0066, -0.6321, -1.5344,  2.1579]],\n",
       "       requires_grad=True)"
      ]
     },
     "execution_count": 147,
     "metadata": {},
     "output_type": "execute_result"
    }
   ],
   "source": [
    "trans_matrix = nn.Parameter(torch.randn(NUM_TAGS, NUM_TAGS))\n",
    "trans_matrix"
   ]
  },
  {
   "cell_type": "markdown",
   "metadata": {},
   "source": [
    "## 2. Compute the score for the gold path."
   ]
  },
  {
   "cell_type": "code",
   "execution_count": 148,
   "metadata": {},
   "outputs": [
    {
     "name": "stdout",
     "output_type": "stream",
     "text": [
      "seq_len: 9\n",
      "batch_size: 3\n"
     ]
    }
   ],
   "source": [
    "seq_len, batch_size, _ = logits.size()\n",
    "print(f\"seq_len: {seq_len}\\nbatch_size: {batch_size}\")"
   ]
  },
  {
   "cell_type": "code",
   "execution_count": 149,
   "metadata": {},
   "outputs": [
    {
     "data": {
      "text/plain": [
       "tensor([0, 1, 2])"
      ]
     },
     "execution_count": 149,
     "metadata": {},
     "output_type": "execute_result"
    }
   ],
   "source": [
    "batch_idx = torch.arange(batch_size, dtype=torch.long)\n",
    "batch_idx"
   ]
  },
  {
   "cell_type": "code",
   "execution_count": 150,
   "metadata": {},
   "outputs": [
    {
     "data": {
      "text/plain": [
       "tensor([0, 1, 2, 3, 4, 5, 6, 7, 8])"
      ]
     },
     "execution_count": 150,
     "metadata": {},
     "output_type": "execute_result"
    }
   ],
   "source": [
    "seq_idx = torch.arange(seq_len, dtype=torch.long)\n",
    "seq_idx"
   ]
  },
  {
   "cell_type": "markdown",
   "metadata": {},
   "source": [
    "### 2.1 transition probability score"
   ]
  },
  {
   "cell_type": "code",
   "execution_count": 151,
   "metadata": {},
   "outputs": [
    {
     "data": {
      "text/plain": [
       "tensor([[1., 1., 1.],\n",
       "        [1., 1., 1.],\n",
       "        [1., 1., 1.],\n",
       "        [1., 1., 1.],\n",
       "        [1., 1., 1.],\n",
       "        [1., 1., 1.],\n",
       "        [1., 1., 0.],\n",
       "        [1., 0., 0.],\n",
       "        [0., 0., 0.]])"
      ]
     },
     "execution_count": 151,
     "metadata": {},
     "output_type": "execute_result"
    }
   ],
   "source": [
    "mask"
   ]
  },
  {
   "cell_type": "code",
   "execution_count": 152,
   "metadata": {},
   "outputs": [
    {
     "data": {
      "text/plain": [
       "tensor([[ True,  True,  True],\n",
       "        [ True,  True,  True],\n",
       "        [ True,  True,  True],\n",
       "        [ True,  True,  True],\n",
       "        [ True,  True,  True],\n",
       "        [ True,  True,  True],\n",
       "        [ True,  True, False],\n",
       "        [ True, False, False],\n",
       "        [False, False, False]])"
      ]
     },
     "execution_count": 152,
     "metadata": {},
     "output_type": "execute_result"
    }
   ],
   "source": [
    "mask = mask.eq(True)\n",
    "mask"
   ]
  },
  {
   "cell_type": "code",
   "execution_count": 153,
   "metadata": {},
   "outputs": [
    {
     "data": {
      "text/plain": [
       "tensor([[False, False, False],\n",
       "        [False, False, False],\n",
       "        [False, False, False],\n",
       "        [False, False, False],\n",
       "        [False, False, False],\n",
       "        [False, False, False],\n",
       "        [False, False,  True],\n",
       "        [False,  True,  True],\n",
       "        [ True,  True,  True]])"
      ]
     },
     "execution_count": 153,
     "metadata": {},
     "output_type": "execute_result"
    }
   ],
   "source": [
    "flip_mask = mask.eq(False)\n",
    "flip_mask"
   ]
  },
  {
   "cell_type": "code",
   "execution_count": 154,
   "metadata": {},
   "outputs": [
    {
     "data": {
      "text/plain": [
       "tensor([[6, 6, 6],\n",
       "        [4, 4, 2],\n",
       "        [2, 2, 5],\n",
       "        [5, 3, 3],\n",
       "        [5, 4, 4],\n",
       "        [3, 4, 7],\n",
       "        [4, 7, 0],\n",
       "        [7, 0, 0],\n",
       "        [0, 0, 0]])"
      ]
     },
     "execution_count": 154,
     "metadata": {},
     "output_type": "execute_result"
    }
   ],
   "source": [
    "tags"
   ]
  },
  {
   "cell_type": "code",
   "execution_count": 155,
   "metadata": {},
   "outputs": [
    {
     "data": {
      "text/plain": [
       "tensor([[6, 6, 6],\n",
       "        [4, 4, 2],\n",
       "        [2, 2, 5],\n",
       "        [5, 3, 3],\n",
       "        [5, 4, 4],\n",
       "        [3, 4, 7],\n",
       "        [4, 7, 0],\n",
       "        [7, 0, 0]])"
      ]
     },
     "execution_count": 155,
     "metadata": {},
     "output_type": "execute_result"
    }
   ],
   "source": [
    "tags[: seq_len -1]"
   ]
  },
  {
   "cell_type": "code",
   "execution_count": 156,
   "metadata": {},
   "outputs": [
    {
     "data": {
      "text/plain": [
       "tensor([[4, 4, 2],\n",
       "        [2, 2, 5],\n",
       "        [5, 3, 3],\n",
       "        [5, 4, 4],\n",
       "        [3, 4, 7],\n",
       "        [4, 7, 0],\n",
       "        [7, 0, 0],\n",
       "        [0, 0, 0]])"
      ]
     },
     "execution_count": 156,
     "metadata": {},
     "output_type": "execute_result"
    }
   ],
   "source": [
    "tags[1:]"
   ]
  },
  {
   "cell_type": "code",
   "execution_count": 157,
   "metadata": {},
   "outputs": [
    {
     "data": {
      "text/plain": [
       "Parameter containing:\n",
       "tensor([[ 0.6696, -0.4195,  0.4738,  0.0122, -0.8303,  0.0965,  1.9076, -1.9062],\n",
       "        [ 0.9474,  0.7148,  1.0506,  0.0498,  0.0609, -0.6184,  1.4469, -0.5844],\n",
       "        [-1.6855,  1.0079,  0.7865,  1.1741,  0.3916,  0.6720,  1.5643, -1.2791],\n",
       "        [-0.7378, -0.5273,  1.1768,  0.6547, -1.2442,  0.0211,  1.2717, -0.5409],\n",
       "        [ 1.7773,  0.1156,  1.4798, -0.7249,  0.0326,  0.5933, -1.1687,  0.3685],\n",
       "        [-1.4618,  0.5730,  0.5229, -1.3505,  0.3255,  1.2817,  1.3270, -0.4554],\n",
       "        [-0.6263, -1.0785,  1.3931,  0.0338,  0.3113,  0.2079, -1.0331,  0.3655],\n",
       "        [ 3.1040, -1.7638,  0.3538,  0.0175,  0.0066, -0.6321, -1.5344,  2.1579]],\n",
       "       requires_grad=True)"
      ]
     },
     "execution_count": 157,
     "metadata": {},
     "output_type": "execute_result"
    }
   ],
   "source": [
    "trans_matrix"
   ]
  },
  {
   "cell_type": "code",
   "execution_count": 158,
   "metadata": {},
   "outputs": [
    {
     "data": {
      "text/plain": [
       "tensor([[6, 6, 6],\n",
       "        [4, 4, 2],\n",
       "        [2, 2, 5],\n",
       "        [5, 3, 3],\n",
       "        [5, 4, 4],\n",
       "        [3, 4, 7],\n",
       "        [4, 7, 0],\n",
       "        [7, 0, 0],\n",
       "        [0, 0, 0]])"
      ]
     },
     "execution_count": 158,
     "metadata": {},
     "output_type": "execute_result"
    }
   ],
   "source": [
    "tags"
   ]
  },
  {
   "cell_type": "code",
   "execution_count": 159,
   "metadata": {},
   "outputs": [
    {
     "data": {
      "text/plain": [
       "tensor([[ 0.3113,  0.3113,  1.3931],\n",
       "        [ 1.4798,  1.4798,  0.6720],\n",
       "        [ 0.6720,  1.1741, -1.3505],\n",
       "        [ 1.2817, -1.2442, -1.2442],\n",
       "        [-1.3505,  0.0326,  0.3685],\n",
       "        [-1.2442,  0.3685,  3.1040],\n",
       "        [ 0.3685,  3.1040,  0.6696],\n",
       "        [ 3.1040,  0.6696,  0.6696]], grad_fn=<IndexBackward>)"
      ]
     },
     "execution_count": 159,
     "metadata": {},
     "output_type": "execute_result"
    }
   ],
   "source": [
    "trans_score = trans_matrix[tags[:seq_len - 1], tags[1:]]\n",
    "trans_score"
   ]
  },
  {
   "cell_type": "code",
   "execution_count": 160,
   "metadata": {},
   "outputs": [
    {
     "data": {
      "text/plain": [
       "tensor([[False, False, False],\n",
       "        [False, False, False],\n",
       "        [False, False, False],\n",
       "        [False, False, False],\n",
       "        [False, False, False],\n",
       "        [False, False, False],\n",
       "        [False, False,  True],\n",
       "        [False,  True,  True],\n",
       "        [ True,  True,  True]])"
      ]
     },
     "execution_count": 160,
     "metadata": {},
     "output_type": "execute_result"
    }
   ],
   "source": [
    "flip_mask"
   ]
  },
  {
   "cell_type": "code",
   "execution_count": 161,
   "metadata": {},
   "outputs": [
    {
     "data": {
      "text/plain": [
       "tensor([[False, False, False],\n",
       "        [False, False, False],\n",
       "        [False, False, False],\n",
       "        [False, False, False],\n",
       "        [False, False, False],\n",
       "        [False, False,  True],\n",
       "        [False,  True,  True],\n",
       "        [ True,  True,  True]])"
      ]
     },
     "execution_count": 161,
     "metadata": {},
     "output_type": "execute_result"
    }
   ],
   "source": [
    "flip_mask[1:, :]"
   ]
  },
  {
   "cell_type": "code",
   "execution_count": 162,
   "metadata": {},
   "outputs": [
    {
     "data": {
      "text/plain": [
       "tensor([[ 0.3113,  0.3113,  1.3931],\n",
       "        [ 1.4798,  1.4798,  0.6720],\n",
       "        [ 0.6720,  1.1741, -1.3505],\n",
       "        [ 1.2817, -1.2442, -1.2442],\n",
       "        [-1.3505,  0.0326,  0.3685],\n",
       "        [-1.2442,  0.3685,  0.0000],\n",
       "        [ 0.3685,  0.0000,  0.0000],\n",
       "        [ 0.0000,  0.0000,  0.0000]], grad_fn=<MaskedFillBackward0>)"
      ]
     },
     "execution_count": 162,
     "metadata": {},
     "output_type": "execute_result"
    }
   ],
   "source": [
    "trans_score = trans_score.masked_fill(flip_mask[1:, :], 0)\n",
    "trans_score"
   ]
  },
  {
   "cell_type": "markdown",
   "metadata": {},
   "source": [
    "### 2.2 emission probability score"
   ]
  },
  {
   "cell_type": "code",
   "execution_count": 164,
   "metadata": {},
   "outputs": [],
   "source": [
    "# emit_score = logits[seq_idx.view(-1, 1), batch_idx.view(1, -1), tags].masked_fill(flip_mask, 0)\n",
    "# emit_score"
   ]
  },
  {
   "cell_type": "code",
   "execution_count": 167,
   "metadata": {},
   "outputs": [
    {
     "data": {
      "text/plain": [
       "torch.Size([9, 3, 6])"
      ]
     },
     "execution_count": 167,
     "metadata": {},
     "output_type": "execute_result"
    }
   ],
   "source": [
    "logits.size()"
   ]
  },
  {
   "cell_type": "code",
   "execution_count": 168,
   "metadata": {},
   "outputs": [
    {
     "data": {
      "text/plain": [
       "tensor([0, 1, 2, 3, 4, 5, 6, 7, 8])"
      ]
     },
     "execution_count": 168,
     "metadata": {},
     "output_type": "execute_result"
    }
   ],
   "source": [
    "seq_idx"
   ]
  },
  {
   "cell_type": "code",
   "execution_count": 169,
   "metadata": {},
   "outputs": [
    {
     "data": {
      "text/plain": [
       "torch.Size([9])"
      ]
     },
     "execution_count": 169,
     "metadata": {},
     "output_type": "execute_result"
    }
   ],
   "source": [
    "seq_idx.size()"
   ]
  },
  {
   "cell_type": "code",
   "execution_count": 170,
   "metadata": {},
   "outputs": [
    {
     "data": {
      "text/plain": [
       "tensor([[0],\n",
       "        [1],\n",
       "        [2],\n",
       "        [3],\n",
       "        [4],\n",
       "        [5],\n",
       "        [6],\n",
       "        [7],\n",
       "        [8]])"
      ]
     },
     "execution_count": 170,
     "metadata": {},
     "output_type": "execute_result"
    }
   ],
   "source": [
    "seq_idx.view(-1, 1)"
   ]
  },
  {
   "cell_type": "code",
   "execution_count": 171,
   "metadata": {},
   "outputs": [
    {
     "data": {
      "text/plain": [
       "tensor([0, 1, 2])"
      ]
     },
     "execution_count": 171,
     "metadata": {},
     "output_type": "execute_result"
    }
   ],
   "source": [
    "batch_idx"
   ]
  },
  {
   "cell_type": "code",
   "execution_count": 173,
   "metadata": {},
   "outputs": [
    {
     "data": {
      "text/plain": [
       "torch.Size([3])"
      ]
     },
     "execution_count": 173,
     "metadata": {},
     "output_type": "execute_result"
    }
   ],
   "source": [
    "batch_idx.size()"
   ]
  },
  {
   "cell_type": "code",
   "execution_count": 175,
   "metadata": {},
   "outputs": [
    {
     "data": {
      "text/plain": [
       "torch.Size([1, 3])"
      ]
     },
     "execution_count": 175,
     "metadata": {},
     "output_type": "execute_result"
    }
   ],
   "source": [
    "batch_idx.view(1, -1).size()"
   ]
  },
  {
   "cell_type": "code",
   "execution_count": 176,
   "metadata": {},
   "outputs": [
    {
     "data": {
      "text/plain": [
       "tensor([[0, 1, 2]])"
      ]
     },
     "execution_count": 176,
     "metadata": {},
     "output_type": "execute_result"
    }
   ],
   "source": [
    "batch_idx.view(1, -1)"
   ]
  },
  {
   "cell_type": "code",
   "execution_count": 177,
   "metadata": {},
   "outputs": [
    {
     "data": {
      "text/plain": [
       "tensor([[6, 6, 6],\n",
       "        [4, 4, 2],\n",
       "        [2, 2, 5],\n",
       "        [5, 3, 3],\n",
       "        [5, 4, 4],\n",
       "        [3, 4, 7],\n",
       "        [4, 7, 0],\n",
       "        [7, 0, 0],\n",
       "        [0, 0, 0]])"
      ]
     },
     "execution_count": 177,
     "metadata": {},
     "output_type": "execute_result"
    }
   ],
   "source": [
    "tags"
   ]
  },
  {
   "cell_type": "code",
   "execution_count": 178,
   "metadata": {},
   "outputs": [
    {
     "ename": "IndexError",
     "evalue": "index 6 is out of bounds for dimension 2 with size 6",
     "output_type": "error",
     "traceback": [
      "\u001b[0;31m---------------------------------------------------------------------------\u001b[0m",
      "\u001b[0;31mIndexError\u001b[0m                                Traceback (most recent call last)",
      "\u001b[0;32m<ipython-input-178-34d083ff9c11>\u001b[0m in \u001b[0;36m<module>\u001b[0;34m\u001b[0m\n\u001b[0;32m----> 1\u001b[0;31m \u001b[0mlogits\u001b[0m\u001b[0;34m[\u001b[0m\u001b[0mseq_idx\u001b[0m\u001b[0;34m.\u001b[0m\u001b[0mview\u001b[0m\u001b[0;34m(\u001b[0m\u001b[0;34m-\u001b[0m\u001b[0;36m1\u001b[0m\u001b[0;34m,\u001b[0m \u001b[0;36m1\u001b[0m\u001b[0;34m)\u001b[0m\u001b[0;34m,\u001b[0m \u001b[0mbatch_idx\u001b[0m\u001b[0;34m.\u001b[0m\u001b[0mview\u001b[0m\u001b[0;34m(\u001b[0m\u001b[0;36m1\u001b[0m\u001b[0;34m,\u001b[0m \u001b[0;34m-\u001b[0m\u001b[0;36m1\u001b[0m\u001b[0;34m)\u001b[0m\u001b[0;34m,\u001b[0m \u001b[0mtags\u001b[0m\u001b[0;34m]\u001b[0m\u001b[0;34m\u001b[0m\u001b[0;34m\u001b[0m\u001b[0m\n\u001b[0m",
      "\u001b[0;31mIndexError\u001b[0m: index 6 is out of bounds for dimension 2 with size 6"
     ]
    }
   ],
   "source": [
    "logits[seq_idx.view(-1, 1), batch_idx.view(1, -1), tags]"
   ]
  },
  {
   "cell_type": "code",
   "execution_count": null,
   "metadata": {},
   "outputs": [],
   "source": []
  }
 ],
 "metadata": {
  "kernelspec": {
   "display_name": "Python [conda env:blog] *",
   "language": "python",
   "name": "conda-env-blog-py"
  },
  "language_info": {
   "codemirror_mode": {
    "name": "ipython",
    "version": 3
   },
   "file_extension": ".py",
   "mimetype": "text/x-python",
   "name": "python",
   "nbconvert_exporter": "python",
   "pygments_lexer": "ipython3",
   "version": "3.8.3"
  }
 },
 "nbformat": 4,
 "nbformat_minor": 2
}
