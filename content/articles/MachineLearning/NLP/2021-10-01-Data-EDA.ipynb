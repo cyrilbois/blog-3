{
 "cells": [
  {
   "cell_type": "markdown",
   "metadata": {},
   "source": [
    "- date: 2021-10-01 10:17:17\n",
    "- author: Jerry Su\n",
    "- slug: Data-EDA\n",
    "- title: Data EDA\n",
    "- category: \n",
    "- tags: NLP"
   ]
  },
  {
   "cell_type": "code",
   "execution_count": 4,
   "metadata": {},
   "outputs": [
    {
     "name": "stdout",
     "output_type": "stream",
     "text": [
      "ArticlesGenerator-Readers  train.json  vocab.txt\r\n"
     ]
    }
   ],
   "source": [
    "!ls ../../../cache"
   ]
  },
  {
   "cell_type": "code",
   "execution_count": 40,
   "metadata": {},
   "outputs": [],
   "source": [
    "import json\n",
    "import pandas as pd"
   ]
  },
  {
   "cell_type": "code",
   "execution_count": 47,
   "metadata": {},
   "outputs": [
    {
     "name": "stdout",
     "output_type": "stream",
     "text": [
      "Train Dataset size: 12133\n",
      "Sample: ['11', '薅羊毛', '活动新用户领5元现金即日起成功注册酷划的新用户，填写邀请码80008即可领取5元现金奖励哦。小伙伴们不要错过，赶快来酷划锁屏领红包吧~每天解锁50次，一年可赚上千元酷划锁屏是一款可以自动赚钱的手机锁屏APP，每次解锁手机均有数额不等的现金奖励。赚到的钱可以极速提现到微信钱包、支付宝，也可以用来购买爆款商品。除手机解锁可以赚钱外，酷划还提供邀请赚、分享赚、高额赚等十余种赚钱方式，零成本可得高额回报。三年时间里，酷划已累计服务了超一亿名用户。在手赚软件中处于无可争议的领先地位。手机赚钱，用酷划锁屏就对了功能介绍手机解锁领现金每次解锁均有现金奖励锁屏精选新鲜资讯，边看边赚零花钱十种以上赚钱方式邀请赚、分享赚、试玩赚…多种赚钱方式任你选每天花上五分钟，酷划收入翻倍领邀请徒弟收入加倍邀请好友体验酷划，建立师徒关系徒弟挣钱，师傅得现金奖励提现购物任你挑选您的收入可提现，购物，话费充值微信一元提现，极速到账官网www.coohua.com微信公众号酷划在线客服邮箱help@coohua.com,每天解锁50次，一年可赚上千块,1、客户端个人中心电商相关功能下线2、锁屏改造客户端SDK']\n"
     ]
    }
   ],
   "source": [
    "train_file = open('../../../cache/train.json', 'r', encoding='utf-8')\n",
    "instances = []\n",
    "for line in train_file:\n",
    "    instance = json.loads(line)\n",
    "    instances.append([instance['label'], instance['label_des'], instance['sentence']])\n",
    "print(f'Train Dataset size: {len(instances)}')\n",
    "print(f'Sample: {instances[0]}')"
   ]
  },
  {
   "cell_type": "code",
   "execution_count": 54,
   "metadata": {},
   "outputs": [
    {
     "data": {
      "text/html": [
       "<div>\n",
       "<style scoped>\n",
       "    .dataframe tbody tr th:only-of-type {\n",
       "        vertical-align: middle;\n",
       "    }\n",
       "\n",
       "    .dataframe tbody tr th {\n",
       "        vertical-align: top;\n",
       "    }\n",
       "\n",
       "    .dataframe thead th {\n",
       "        text-align: right;\n",
       "    }\n",
       "</style>\n",
       "<table border=\"1\" class=\"dataframe\">\n",
       "  <thead>\n",
       "    <tr style=\"text-align: right;\">\n",
       "      <th></th>\n",
       "      <th>label</th>\n",
       "      <th>label_des</th>\n",
       "      <th>sentence</th>\n",
       "    </tr>\n",
       "  </thead>\n",
       "  <tbody>\n",
       "    <tr>\n",
       "      <th>0</th>\n",
       "      <td>11</td>\n",
       "      <td>薅羊毛</td>\n",
       "      <td>活动新用户领5元现金即日起成功注册酷划的新用户，填写邀请码80008即可领取5元现金奖励哦。...</td>\n",
       "    </tr>\n",
       "    <tr>\n",
       "      <th>1</th>\n",
       "      <td>95</td>\n",
       "      <td>借贷</td>\n",
       "      <td>产品简介小腰包APP是友戏互联为年轻白领人群打造的一款互联网消费金融应用，以用户日常消费行为...</td>\n",
       "    </tr>\n",
       "    <tr>\n",
       "      <th>2</th>\n",
       "      <td>74</td>\n",
       "      <td>违章</td>\n",
       "      <td>6000万车主都在用的查违章洗车养车加油车险优惠一站式用车服务平台，河南交警系统直连特色功能...</td>\n",
       "    </tr>\n",
       "    <tr>\n",
       "      <th>3</th>\n",
       "      <td>70</td>\n",
       "      <td>工具</td>\n",
       "      <td>这不仅是一个一站式的服务平台，在使用魅族手机过程中遇到什么可以通过这个应用来寻求解决，还是您...</td>\n",
       "    </tr>\n",
       "    <tr>\n",
       "      <th>4</th>\n",
       "      <td>58</td>\n",
       "      <td>高等教育</td>\n",
       "      <td>\"2019普通话学习、教师、公务员、播音主持、学拼音、配音员做普通话水平测试的优选软件1.普...</td>\n",
       "    </tr>\n",
       "    <tr>\n",
       "      <th>...</th>\n",
       "      <td>...</td>\n",
       "      <td>...</td>\n",
       "      <td>...</td>\n",
       "    </tr>\n",
       "    <tr>\n",
       "      <th>12128</th>\n",
       "      <td>70</td>\n",
       "      <td>工具</td>\n",
       "      <td>应用简介「查找手机」是魅族手机内置防盗服务的同名独立应用，目前已支持主流安卓机型。当手机不慎...</td>\n",
       "    </tr>\n",
       "    <tr>\n",
       "      <th>12129</th>\n",
       "      <td>24</td>\n",
       "      <td>辅助工具</td>\n",
       "      <td>手游充值4折起，自动折扣，无需代充，终生折扣。小7手游，直接的手游福利1、手游充值4折千款热...</td>\n",
       "    </tr>\n",
       "    <tr>\n",
       "      <th>12130</th>\n",
       "      <td>63</td>\n",
       "      <td>综合预定</td>\n",
       "      <td>去哪儿旅行总有你要的低价作为中国的较早无线和在线旅游平台，去哪儿旅行支持用户低价购买近60万...</td>\n",
       "    </tr>\n",
       "    <tr>\n",
       "      <th>12131</th>\n",
       "      <td>92</td>\n",
       "      <td>支付</td>\n",
       "      <td>随行付MPOS正式更名为随行付Plus，信用卡生活从此开始，崭新面貌，更多功能等你体验。随行...</td>\n",
       "    </tr>\n",
       "    <tr>\n",
       "      <th>12132</th>\n",
       "      <td>34</td>\n",
       "      <td>新闻</td>\n",
       "      <td>掌上阅读用掌薪，个性化阅读APP</td>\n",
       "    </tr>\n",
       "  </tbody>\n",
       "</table>\n",
       "<p>12133 rows × 3 columns</p>\n",
       "</div>"
      ],
      "text/plain": [
       "      label label_des                                           sentence\n",
       "0        11       薅羊毛  活动新用户领5元现金即日起成功注册酷划的新用户，填写邀请码80008即可领取5元现金奖励哦。...\n",
       "1        95        借贷  产品简介小腰包APP是友戏互联为年轻白领人群打造的一款互联网消费金融应用，以用户日常消费行为...\n",
       "2        74        违章  6000万车主都在用的查违章洗车养车加油车险优惠一站式用车服务平台，河南交警系统直连特色功能...\n",
       "3        70        工具  这不仅是一个一站式的服务平台，在使用魅族手机过程中遇到什么可以通过这个应用来寻求解决，还是您...\n",
       "4        58      高等教育  \"2019普通话学习、教师、公务员、播音主持、学拼音、配音员做普通话水平测试的优选软件1.普...\n",
       "...     ...       ...                                                ...\n",
       "12128    70        工具  应用简介「查找手机」是魅族手机内置防盗服务的同名独立应用，目前已支持主流安卓机型。当手机不慎...\n",
       "12129    24      辅助工具  手游充值4折起，自动折扣，无需代充，终生折扣。小7手游，直接的手游福利1、手游充值4折千款热...\n",
       "12130    63      综合预定  去哪儿旅行总有你要的低价作为中国的较早无线和在线旅游平台，去哪儿旅行支持用户低价购买近60万...\n",
       "12131    92        支付  随行付MPOS正式更名为随行付Plus，信用卡生活从此开始，崭新面貌，更多功能等你体验。随行...\n",
       "12132    34        新闻                                   掌上阅读用掌薪，个性化阅读APP\n",
       "\n",
       "[12133 rows x 3 columns]"
      ]
     },
     "execution_count": 54,
     "metadata": {},
     "output_type": "execute_result"
    }
   ],
   "source": [
    "train_dataframe = pd.DataFrame(instances, columns=['label', 'label_des', 'sentence'])\n",
    "train_dataframe"
   ]
  },
  {
   "cell_type": "code",
   "execution_count": null,
   "metadata": {},
   "outputs": [],
   "source": []
  }
 ],
 "metadata": {
  "kernelspec": {
   "display_name": "Python 3 (ipykernel)",
   "language": "python",
   "name": "python3"
  },
  "language_info": {
   "codemirror_mode": {
    "name": "ipython",
    "version": 3
   },
   "file_extension": ".py",
   "mimetype": "text/x-python",
   "name": "python",
   "nbconvert_exporter": "python",
   "pygments_lexer": "ipython3",
   "version": "3.8.3"
  }
 },
 "nbformat": 4,
 "nbformat_minor": 4
}
