{
 "cells": [
  {
   "cell_type": "markdown",
   "metadata": {},
   "source": [
    "- date: 2021-01-04 12:17:17\n",
    "- author: Jerry Su\n",
    "- slug: torch.rand/randn/randint\n",
    "- title: torch.rand/randn/randint\n",
    "- category: \n",
    "- tags: Deep Learning, Pytorch"
   ]
  },
  {
   "cell_type": "code",
   "execution_count": 2,
   "metadata": {},
   "outputs": [],
   "source": [
    "import torch"
   ]
  },
  {
   "cell_type": "markdown",
   "metadata": {},
   "source": [
    "```\n",
    "Docstring:\n",
    "rand(*size, *, out=None, dtype=None, layout=torch.strided, device=None, requires_grad=False) -> Tensor\n",
    "\n",
    "Returns a tensor filled with random numbers from a uniform distribution\n",
    "on the interval :math:`[0, 1)`\n",
    "\n",
    "The shape of the tensor is defined by the variable argument :attr:`size`.\n",
    "\n",
    "Args:\n",
    "    size (int...): a sequence of integers defining the shape of the output tensor.\n",
    "        Can be a variable number of arguments or a collection like a list or tuple.\n",
    "\n",
    "Keyword args:\n",
    "    out (Tensor, optional): the output tensor.\n",
    "    dtype (:class:`torch.dtype`, optional): the desired data type of returned tensor.\n",
    "        Default: if ``None``, uses a global default (see :func:`torch.set_default_tensor_type`).\n",
    "    layout (:class:`torch.layout`, optional): the desired layout of returned Tensor.\n",
    "        Default: ``torch.strided``.\n",
    "    device (:class:`torch.device`, optional): the desired device of returned tensor.\n",
    "        Default: if ``None``, uses the current device for the default tensor type\n",
    "        (see :func:`torch.set_default_tensor_type`). :attr:`device` will be the CPU\n",
    "        for CPU tensor types and the current CUDA device for CUDA tensor types.\n",
    "    requires_grad (bool, optional): If autograd should record operations on the\n",
    "        returned tensor. Default: ``False``.\n",
    "\n",
    "Example::\n",
    "\n",
    "    >>> torch.rand(4)\n",
    "    tensor([ 0.5204,  0.2503,  0.3525,  0.5673])\n",
    "    >>> torch.rand(2, 3)\n",
    "    tensor([[ 0.8237,  0.5781,  0.6879],\n",
    "            [ 0.3816,  0.7249,  0.0998]])\n",
    "Type:      builtin_function_or_method\n",
    "```"
   ]
  },
  {
   "cell_type": "code",
   "execution_count": null,
   "metadata": {},
   "outputs": [],
   "source": []
  }
 ],
 "metadata": {
  "kernelspec": {
   "display_name": "Python [conda env:blog] *",
   "language": "python",
   "name": "conda-env-blog-py"
  },
  "language_info": {
   "codemirror_mode": {
    "name": "ipython",
    "version": 3
   },
   "file_extension": ".py",
   "mimetype": "text/x-python",
   "name": "python",
   "nbconvert_exporter": "python",
   "pygments_lexer": "ipython3",
   "version": "3.8.3"
  }
 },
 "nbformat": 4,
 "nbformat_minor": 4
}
