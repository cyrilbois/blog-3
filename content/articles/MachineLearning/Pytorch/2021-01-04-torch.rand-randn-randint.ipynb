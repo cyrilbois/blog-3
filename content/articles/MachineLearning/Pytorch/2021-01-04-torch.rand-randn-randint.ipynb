{
 "cells": [
  {
   "cell_type": "markdown",
   "metadata": {},
   "source": [
    "- date: 2021-01-04 12:17:17\n",
    "- author: Jerry Su\n",
    "- slug: torch.rand/randn/randint\n",
    "- title: torch.rand/randn/randint\n",
    "- category: \n",
    "- tags: Deep Learning, Pytorch"
   ]
  },
  {
   "cell_type": "code",
   "execution_count": 2,
   "metadata": {},
   "outputs": [],
   "source": [
    "import torch"
   ]
  },
  {
   "cell_type": "code",
   "execution_count": 7,
   "metadata": {},
   "outputs": [
    {
     "data": {
      "text/plain": [
       "tensor([[0.7259, 0.7692, 0.0402],\n",
       "        [0.9571, 0.4582, 0.7818]])"
      ]
     },
     "execution_count": 7,
     "metadata": {},
     "output_type": "execute_result"
    }
   ],
   "source": [
    "\"\"\"\n",
    "Docstring:\n",
    "rand(*size, *, out=None, dtype=None, layout=torch.strided, device=None, requires_grad=False) -> Tensor\n",
    "\n",
    "Returns a tensor filled with random numbers from a uniform distribution\n",
    "on the interval :math:`[0, 1)`\n",
    "\n",
    "The shape of the tensor is defined by the variable argument :attr:`size`.\n",
    "\n",
    "Args:\n",
    "    size (int...): a sequence of integers defining the shape of the output tensor.\n",
    "        Can be a variable number of arguments or a collection like a list or tuple.\n",
    "\n",
    "Keyword args:\n",
    "    out (Tensor, optional): the output tensor.\n",
    "    dtype (:class:`torch.dtype`, optional): the desired data type of returned tensor.\n",
    "        Default: if ``None``, uses a global default (see :func:`torch.set_default_tensor_type`).\n",
    "    layout (:class:`torch.layout`, optional): the desired layout of returned Tensor.\n",
    "        Default: ``torch.strided``.\n",
    "    device (:class:`torch.device`, optional): the desired device of returned tensor.\n",
    "        Default: if ``None``, uses the current device for the default tensor type\n",
    "        (see :func:`torch.set_default_tensor_type`). :attr:`device` will be the CPU\n",
    "        for CPU tensor types and the current CUDA device for CUDA tensor types.\n",
    "    requires_grad (bool, optional): If autograd should record operations on the\n",
    "        returned tensor. Default: ``False``.\n",
    "\n",
    "Example::\n",
    "\n",
    "    >>> torch.rand(4)\n",
    "    tensor([ 0.5204,  0.2503,  0.3525,  0.5673])\n",
    "    >>> torch.rand(2, 3)\n",
    "    tensor([[ 0.8237,  0.5781,  0.6879],\n",
    "            [ 0.3816,  0.7249,  0.0998]])\n",
    "Type:      builtin_function_or_method\n",
    "\"\"\"\n",
    "\n",
    "# [0, 1)之间的均匀分布\n",
    "torch.rand([2, 3])"
   ]
  },
  {
   "cell_type": "code",
   "execution_count": 11,
   "metadata": {},
   "outputs": [
    {
     "data": {
      "text/plain": [
       "tensor([[-0.3176, -0.0527, -0.8901],\n",
       "        [ 1.2966,  0.0016,  0.2121]])"
      ]
     },
     "execution_count": 11,
     "metadata": {},
     "output_type": "execute_result"
    }
   ],
   "source": [
    "\"\"\"\n",
    "Docstring:\n",
    "randn(*size, *, out=None, dtype=None, layout=torch.strided, device=None, requires_grad=False) -> Tensor\n",
    "\n",
    "Returns a tensor filled with random numbers from a normal distribution\n",
    "with mean `0` and variance `1` (also called the standard normal\n",
    "distribution).\n",
    "\n",
    ".. math::\n",
    "    \\text{out}_{i} \\sim \\mathcal{N}(0, 1)\n",
    "\n",
    "The shape of the tensor is defined by the variable argument :attr:`size`.\n",
    "\n",
    "Args:\n",
    "    size (int...): a sequence of integers defining the shape of the output tensor.\n",
    "        Can be a variable number of arguments or a collection like a list or tuple.\n",
    "\n",
    "Keyword args:\n",
    "    out (Tensor, optional): the output tensor.\n",
    "    dtype (:class:`torch.dtype`, optional): the desired data type of returned tensor.\n",
    "        Default: if ``None``, uses a global default (see :func:`torch.set_default_tensor_type`).\n",
    "    layout (:class:`torch.layout`, optional): the desired layout of returned Tensor.\n",
    "        Default: ``torch.strided``.\n",
    "    device (:class:`torch.device`, optional): the desired device of returned tensor.\n",
    "        Default: if ``None``, uses the current device for the default tensor type\n",
    "        (see :func:`torch.set_default_tensor_type`). :attr:`device` will be the CPU\n",
    "        for CPU tensor types and the current CUDA device for CUDA tensor types.\n",
    "    requires_grad (bool, optional): If autograd should record operations on the\n",
    "        returned tensor. Default: ``False``.\n",
    "\n",
    "Example::\n",
    "\n",
    "    >>> torch.randn(4)\n",
    "    tensor([-2.1436,  0.9966,  2.3426, -0.6366])\n",
    "    >>> torch.randn(2, 3)\n",
    "    tensor([[ 1.5954,  2.8929, -1.0923],\n",
    "            [ 1.1719, -0.4709, -0.1996]])\n",
    "Type:      builtin_function_or_method\n",
    "\"\"\"\n",
    "\n",
    "# 标准正态分布\n",
    "torch.randn([2, 3])"
   ]
  },
  {
   "cell_type": "code",
   "execution_count": 18,
   "metadata": {},
   "outputs": [
    {
     "data": {
      "text/plain": [
       "tensor([[2, 7, 7],\n",
       "        [9, 8, 9]])"
      ]
     },
     "execution_count": 18,
     "metadata": {},
     "output_type": "execute_result"
    }
   ],
   "source": [
    "\"\"\"\n",
    "Docstring:\n",
    "randint(low=0, high, size, \\*, generator=None, out=None, dtype=None, layout=torch.strided, device=None, requires_grad=False) -> Tensor\n",
    "\n",
    "Returns a tensor filled with random integers generated uniformly\n",
    "between :attr:`low` (inclusive) and :attr:`high` (exclusive).\n",
    "\n",
    "The shape of the tensor is defined by the variable argument :attr:`size`.\n",
    "\n",
    ".. note:\n",
    "    With the global dtype default (``torch.float32``), this function returns\n",
    "    a tensor with dtype ``torch.int64``.\n",
    "\n",
    "Args:\n",
    "    low (int, optional): Lowest integer to be drawn from the distribution. Default: 0.\n",
    "    high (int): One above the highest integer to be drawn from the distribution.\n",
    "    size (tuple): a tuple defining the shape of the output tensor.\n",
    "\n",
    "Keyword args:\n",
    "    generator (:class:`torch.Generator`, optional): a pseudorandom number generator for sampling\n",
    "    out (Tensor, optional): the output tensor.\n",
    "    dtype (:class:`torch.dtype`, optional): the desired data type of returned tensor.\n",
    "        Default: if ``None``, uses a global default (see :func:`torch.set_default_tensor_type`).\n",
    "    layout (:class:`torch.layout`, optional): the desired layout of returned Tensor.\n",
    "        Default: ``torch.strided``.\n",
    "    device (:class:`torch.device`, optional): the desired device of returned tensor.\n",
    "        Default: if ``None``, uses the current device for the default tensor type\n",
    "        (see :func:`torch.set_default_tensor_type`). :attr:`device` will be the CPU\n",
    "        for CPU tensor types and the current CUDA device for CUDA tensor types.\n",
    "    requires_grad (bool, optional): If autograd should record operations on the\n",
    "        returned tensor. Default: ``False``.\n",
    "\n",
    "Example::\n",
    "\n",
    "    >>> torch.randint(3, 5, (3,))\n",
    "    tensor([4, 3, 4])\n",
    "\n",
    "\n",
    "    >>> torch.randint(10, (2, 2))\n",
    "    tensor([[0, 2],\n",
    "            [5, 5]])\n",
    "\n",
    "\n",
    "    >>> torch.randint(3, 10, (2, 2))\n",
    "    tensor([[4, 5],\n",
    "            [6, 7]])\n",
    "Type:      builtin_function_or_method\n",
    "\"\"\"\n",
    "# [low, high)随机整数\n",
    "torch.randint(low=0, high=10, size=[2, 3])"
   ]
  },
  {
   "cell_type": "code",
   "execution_count": null,
   "metadata": {},
   "outputs": [],
   "source": []
  }
 ],
 "metadata": {
  "kernelspec": {
   "display_name": "Python [conda env:blog] *",
   "language": "python",
   "name": "conda-env-blog-py"
  },
  "language_info": {
   "codemirror_mode": {
    "name": "ipython",
    "version": 3
   },
   "file_extension": ".py",
   "mimetype": "text/x-python",
   "name": "python",
   "nbconvert_exporter": "python",
   "pygments_lexer": "ipython3",
   "version": "3.8.3"
  }
 },
 "nbformat": 4,
 "nbformat_minor": 4
}
