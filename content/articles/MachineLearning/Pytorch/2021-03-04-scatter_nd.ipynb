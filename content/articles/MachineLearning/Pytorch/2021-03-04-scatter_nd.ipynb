{
 "cells": [
  {
   "cell_type": "markdown",
   "metadata": {},
   "source": [
    "- date: 2021-03-04 13:17:17\n",
    "- author: Jerry Su\n",
    "- slug: scatter_nd\n",
    "- title: Scatter_nd\n",
    "- category: \n",
    "- tags: Deep Learning, Pytorch, Tensorflow"
   ]
  },
  {
   "cell_type": "code",
   "execution_count": 36,
   "metadata": {},
   "outputs": [],
   "source": [
    "import torch\n",
    "import tensorflow as tf"
   ]
  },
  {
   "cell_type": "markdown",
   "metadata": {},
   "source": [
    "```\n",
    "tf.scatter_nd(\n",
    "       indices,\n",
    "       updates,\n",
    "       shape,\n",
    "       name=None\n",
    ")\n",
    "```\n",
    "\n",
    "根据indices将updates散布到新的(初始为零)张量.\n",
    "\n",
    "根据索引对给定shape的零张量中的单个值或切片应用稀疏updates来创建新的张量.此运算符是tf.gather_nd运算符的反函数,它从给定的张量中提取值或切片.\n",
    "\n",
    "警告：更新应用的顺序是非确定性的,所以如果indices包含重复项的话,则输出将是不确定的.\n",
    "\n",
    "indices是一个整数张量,其中含有索引形成一个新的形状shape张量.indices的最后的维度可以是shape的最多的秩："
   ]
  },
  {
   "cell_type": "code",
   "execution_count": null,
   "metadata": {},
   "outputs": [],
   "source": []
  }
 ],
 "metadata": {
  "kernelspec": {
   "display_name": "Python [conda env:blog] *",
   "language": "python",
   "name": "conda-env-blog-py"
  },
  "language_info": {
   "codemirror_mode": {
    "name": "ipython",
    "version": 3
   },
   "file_extension": ".py",
   "mimetype": "text/x-python",
   "name": "python",
   "nbconvert_exporter": "python",
   "pygments_lexer": "ipython3",
   "version": "3.8.3"
  }
 },
 "nbformat": 4,
 "nbformat_minor": 4
}
