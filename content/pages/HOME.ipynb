{
 "cells": [
  {
   "cell_type": "markdown",
   "metadata": {},
   "source": [
    "- date: 2018-01-07 12:17:17\n",
    "- author: Jerry Su\n",
    "- slug: HOME\n",
    "- title: HOME"
   ]
  },
  {
   "cell_type": "markdown",
   "metadata": {},
   "source": [
    "### JERRY\n",
    "\n",
    "- NLP, CloudWalk\n",
    "\n",
    "- Email: sa517301@mail.ustc.edu.cn\n",
    "\n",
    "- Github: [github.com/jerrylsu](https://github.com/jerrylsu)\n",
    "\n",
    "### PROJECTS\n",
    "\n",
    "- Mar. 2021 - Apr. 2021, **Utterance Rewriter with Transformer and Pointer Networker**\n",
    "\n",
    "- [Dec. 2020 - Feb. 2021, **Span-Extraction: Chinese Machine Reading Comprehension**](https://github.com/jerrylsu/cmrc)\n",
    "\n",
    "- [Jan. 2021 - Feb. 2021, **Pretrain Language Model for BERT**](https://github.com/jerrylsu/lm_pretrain)\n",
    "\n",
    "- [Jan. 2021 - Apr. 2021, **Novel Molecular Toxicity Prediction**](https://github.com/jerrylsu/Novel-Molecular-Toxicity-Prediction-Model)\n",
    "\n",
    "- [Jun. 2020 - Sep. 2020, **BAAI-JD Multimodal Dialog Challenge**](http://www.jerrylsu.net/articles/2020/nlp-JDMDC2020.html)\n",
    "- [Oct. 2020 - Present, **Pyutils: Python pacakage that contains misc utils**](https://github.com/jerrylsu/pyutils)\n",
    "\n",
    "### EXPERIENCE\n",
    "\n",
    "- Dec. 2020 - Present, Data Research, **CloudWalk**. NLP Algorithm Engineer\n",
    "\n",
    "- Sep. 2019 - Oct. 2020, Marketing Science, **eBay**. Data Scientist Intern, advised by [Ben](http://www.legendu.net/)\n",
    "\n",
    "- Jul. 2018 - Aug. 2018, Youtu Lab, **Tencent**. NLP Intern, advised by Jingqun Tang\n",
    "\n",
    "- May. 2017 - Jun. 2018, Robot Lab, **USTC**. Research, advised by Zhengang Zhao"
   ]
  }
 ],
 "metadata": {
  "kernelspec": {
   "display_name": "Python [conda env:blog] *",
   "language": "python",
   "name": "conda-env-blog-py"
  },
  "language_info": {
   "codemirror_mode": {
    "name": "ipython",
    "version": 3
   },
   "file_extension": ".py",
   "mimetype": "text/x-python",
   "name": "python",
   "nbconvert_exporter": "python",
   "pygments_lexer": "ipython3",
   "version": "3.8.3"
  }
 },
 "nbformat": 4,
 "nbformat_minor": 4
}
