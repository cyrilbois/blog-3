{
 "cells": [
  {
   "cell_type": "code",
   "execution_count": 51,
   "metadata": {},
   "outputs": [
    {
     "data": {
      "text/plain": [
       "154890"
      ]
     },
     "execution_count": 51,
     "metadata": {},
     "output_type": "execute_result"
    }
   ],
   "source": [
    "with open('./jerry_train.csv', 'r') as fp:\n",
    "    res = []\n",
    "    for line in fp.readlines():\n",
    "        line_list = line.strip('\\n').split(',')\n",
    "        res.extend(list(filter(lambda x: x != '', line_list))[1:])\n",
    "len(res)"
   ]
  },
  {
   "cell_type": "code",
   "execution_count": 54,
   "metadata": {},
   "outputs": [],
   "source": [
    "ids = sorted(list(set(res)))\n",
    "dicts = {}\n",
    "for index, data in enumerate(ids):\n",
    "    dicts[data] = index + 1"
   ]
  },
  {
   "cell_type": "code",
   "execution_count": 55,
   "metadata": {},
   "outputs": [
    {
     "data": {
      "text/plain": [
       "36916"
      ]
     },
     "execution_count": 55,
     "metadata": {},
     "output_type": "execute_result"
    }
   ],
   "source": [
    "with open('./jerry_validation.csv', 'r') as fp:\n",
    "    res2 = []\n",
    "    for line in fp.readlines():\n",
    "        line_list = line.strip('\\n').split(',')\n",
    "        res2.extend(list(filter(lambda x: x != '', line_list))[1:])\n",
    "len(res2)"
   ]
  },
  {
   "cell_type": "code",
   "execution_count": 56,
   "metadata": {},
   "outputs": [],
   "source": [
    "ids2 = sorted(list(set(res2)))\n",
    "dicts2 = {}\n",
    "for index, data in enumerate(ids2):\n",
    "    dicts2[data] = index + 1"
   ]
  },
  {
   "cell_type": "code",
   "execution_count": 62,
   "metadata": {},
   "outputs": [],
   "source": [
    "a = set(res)\n",
    "b = set(res2)"
   ]
  },
  {
   "cell_type": "code",
   "execution_count": null,
   "metadata": {},
   "outputs": [],
   "source": []
  }
 ],
 "metadata": {
  "kernelspec": {
   "display_name": "Python [conda env:blog] *",
   "language": "python",
   "name": "conda-env-blog-py"
  },
  "language_info": {
   "codemirror_mode": {
    "name": "ipython",
    "version": 3
   },
   "file_extension": ".py",
   "mimetype": "text/x-python",
   "name": "python",
   "nbconvert_exporter": "python",
   "pygments_lexer": "ipython3",
   "version": "3.8.3"
  }
 },
 "nbformat": 4,
 "nbformat_minor": 4
}
