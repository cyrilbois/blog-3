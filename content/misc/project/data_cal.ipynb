{
 "cells": [
  {
   "cell_type": "code",
   "execution_count": 1,
   "metadata": {},
   "outputs": [],
   "source": [
    "import pandas as pd"
   ]
  },
  {
   "cell_type": "code",
   "execution_count": 122,
   "metadata": {},
   "outputs": [
    {
     "data": {
      "text/plain": [
       "0                         a4\n",
       "1                          P\n",
       "2      1010000000000000000.0\n",
       "3                   1.39E+18\n",
       "4                   3.38E+18\n",
       "               ...          \n",
       "381                         \n",
       "382                         \n",
       "383                         \n",
       "384                         \n",
       "385                         \n",
       "Name: 3, Length: 386, dtype: object"
      ]
     },
     "execution_count": 122,
     "metadata": {},
     "output_type": "execute_result"
    }
   ],
   "source": [
    "train_base = pd.read_csv('./Train128.csv', header=None, keep_default_na=False)\n",
    "train_base.iloc[3]"
   ]
  },
  {
   "cell_type": "code",
   "execution_count": 123,
   "metadata": {},
   "outputs": [
    {
     "data": {
      "text/plain": [
       "0                       a4\n",
       "1      1011775033572361728\n",
       "2      1392918053001556370\n",
       "3      3379647737167460193\n",
       "4      4245799922589272377\n",
       "              ...         \n",
       "380                       \n",
       "381                       \n",
       "382                       \n",
       "383                       \n",
       "384                       \n",
       "Name: 3, Length: 385, dtype: object"
      ]
     },
     "execution_count": 123,
     "metadata": {},
     "output_type": "execute_result"
    }
   ],
   "source": [
    "train_base = pd.read_csv('./train_base.csv', header=None)\n",
    "train_base.iloc[3]"
   ]
  },
  {
   "cell_type": "code",
   "execution_count": 112,
   "metadata": {},
   "outputs": [
    {
     "data": {
      "text/plain": [
       "Index(['Unnamed: 0', '10004236570487584249', '10006261853817802287',\n",
       "       '1000924580931086152', '10010614138931189637', '10013536699398912950',\n",
       "       '10025880196521349333', '10026110878998557902', '10037017386882264283',\n",
       "       '10039423937033256401',\n",
       "       ...\n",
       "       '9982813782122035850', '998530347331628591', '9988391285502756215',\n",
       "       '9990381798854864604', '9991283589751905491', '99923678814491871',\n",
       "       '9995787872821833276', '9996402920067181418', '9996816059703426237',\n",
       "       '9998690016674786844'],\n",
       "      dtype='object', length=5577)"
      ]
     },
     "execution_count": 112,
     "metadata": {},
     "output_type": "execute_result"
    }
   ],
   "source": [
    "# teacher convert\n",
    "train_base_binary = pd.read_csv('./train_base.binary.csv')\n",
    "train_base_binary.columns"
   ]
  },
  {
   "cell_type": "code",
   "execution_count": 115,
   "metadata": {},
   "outputs": [
    {
     "data": {
      "text/plain": [
       "Index(['Unnamed: 0', '10004236570487584249', '10006261853817802287',\n",
       "       '1000924580931086152', '10010614138931189637', '10013536699398912950',\n",
       "       '10025880196521349333', '10026110878998557902', '10037017386882264283',\n",
       "       '10039423937033256401',\n",
       "       ...\n",
       "       '9982813782122035850', '998530347331628591', '9988391285502756215',\n",
       "       '9990381798854864604', '9991283589751905491', '99923678814491871',\n",
       "       '9995787872821833276', '9996402920067181418', '9996816059703426237',\n",
       "       '9998690016674786844'],\n",
       "      dtype='object', length=5577)"
      ]
     },
     "execution_count": 115,
     "metadata": {},
     "output_type": "execute_result"
    }
   ],
   "source": [
    "# my convert\n",
    "train_base_my_binary = pd.read_csv('./train_base_my.binary.csv')\n",
    "train_base_my_binary.columns"
   ]
  },
  {
   "cell_type": "code",
   "execution_count": 104,
   "metadata": {},
   "outputs": [
    {
     "data": {
      "text/plain": [
       "3.87e+18"
      ]
     },
     "execution_count": 104,
     "metadata": {},
     "output_type": "execute_result"
    }
   ],
   "source": [
    "a = pd.read_csv('./LableJiang1823Train.csv', header=None, keep_default_na=False)\n",
    "a = a.iloc[:, 1:]\n",
    "a.iloc[:, 0] = a.iloc[:, 0]#.astype(int)\n",
    "a.iloc[0, 0]"
   ]
  },
  {
   "cell_type": "code",
   "execution_count": 26,
   "metadata": {},
   "outputs": [
    {
     "data": {
      "text/plain": [
       "67"
      ]
     },
     "execution_count": 26,
     "metadata": {},
     "output_type": "execute_result"
    }
   ],
   "source": [
    "len(set(list(train_base[1])))"
   ]
  },
  {
   "cell_type": "code",
   "execution_count": 59,
   "metadata": {},
   "outputs": [
    {
     "data": {
      "text/plain": [
       "0      object\n",
       "1       int64\n",
       "2      object\n",
       "3      object\n",
       "4      object\n",
       "        ...  \n",
       "380    object\n",
       "381    object\n",
       "382    object\n",
       "383    object\n",
       "384    object\n",
       "Length: 385, dtype: object"
      ]
     },
     "execution_count": 59,
     "metadata": {},
     "output_type": "execute_result"
    }
   ],
   "source": [
    "train_base.dtypes"
   ]
  },
  {
   "cell_type": "code",
   "execution_count": 125,
   "metadata": {},
   "outputs": [],
   "source": [
    "import torch"
   ]
  },
  {
   "cell_type": "code",
   "execution_count": 128,
   "metadata": {},
   "outputs": [
    {
     "data": {
      "text/plain": [
       "[tensor([[1, 2, 3],\n",
       "         [3, 4, 5]]),\n",
       " tensor([[3, 2, 3],\n",
       "         [3, 4, 5]]),\n",
       " tensor([[4, 2, 3],\n",
       "         [3, 4, 5]])]"
      ]
     },
     "execution_count": 128,
     "metadata": {},
     "output_type": "execute_result"
    }
   ],
   "source": [
    "a = torch.tensor([[1,2,3], [3,4,5]])\n",
    "b = torch.tensor([[3,2,3], [3,4,5]])\n",
    "c = torch.tensor([[4,2,3], [3,4,5]])\n",
    "d = [a,b,c]\n",
    "d"
   ]
  },
  {
   "cell_type": "code",
   "execution_count": 141,
   "metadata": {},
   "outputs": [
    {
     "data": {
      "text/plain": [
       "torch.Size([6, 3])"
      ]
     },
     "execution_count": 141,
     "metadata": {},
     "output_type": "execute_result"
    }
   ],
   "source": [
    "s = torch.cat(d, dim=0)\n",
    "s.shape"
   ]
  },
  {
   "cell_type": "code",
   "execution_count": 188,
   "metadata": {},
   "outputs": [],
   "source": [
    "dd = {'jerry': 2, \"annie\": 3}"
   ]
  },
  {
   "cell_type": "code",
   "execution_count": 195,
   "metadata": {},
   "outputs": [
    {
     "data": {
      "text/plain": [
       "[2]"
      ]
     },
     "execution_count": 195,
     "metadata": {},
     "output_type": "execute_result"
    }
   ],
   "source": [
    "list(filter(lambda x: x != 3, dd.values()))"
   ]
  },
  {
   "cell_type": "code",
   "execution_count": 190,
   "metadata": {},
   "outputs": [
    {
     "name": "stdout",
     "output_type": "stream",
     "text": [
      "2\n",
      "3\n"
     ]
    }
   ],
   "source": [
    "for d in dd.values():\n",
    "    print(d)"
   ]
  },
  {
   "cell_type": "code",
   "execution_count": null,
   "metadata": {},
   "outputs": [],
   "source": []
  },
  {
   "cell_type": "code",
   "execution_count": 182,
   "metadata": {},
   "outputs": [],
   "source": [
    "import pandas as pd"
   ]
  },
  {
   "cell_type": "code",
   "execution_count": 185,
   "metadata": {},
   "outputs": [],
   "source": [
    "dic = {1:[2], 4:[5]}"
   ]
  },
  {
   "cell_type": "code",
   "execution_count": 187,
   "metadata": {},
   "outputs": [
    {
     "data": {
      "text/html": [
       "<div>\n",
       "<style scoped>\n",
       "    .dataframe tbody tr th:only-of-type {\n",
       "        vertical-align: middle;\n",
       "    }\n",
       "\n",
       "    .dataframe tbody tr th {\n",
       "        vertical-align: top;\n",
       "    }\n",
       "\n",
       "    .dataframe thead th {\n",
       "        text-align: right;\n",
       "    }\n",
       "</style>\n",
       "<table border=\"1\" class=\"dataframe\">\n",
       "  <thead>\n",
       "    <tr style=\"text-align: right;\">\n",
       "      <th></th>\n",
       "      <th>1</th>\n",
       "      <th>4</th>\n",
       "    </tr>\n",
       "  </thead>\n",
       "  <tbody>\n",
       "    <tr>\n",
       "      <th>0</th>\n",
       "      <td>2</td>\n",
       "      <td>5</td>\n",
       "    </tr>\n",
       "  </tbody>\n",
       "</table>\n",
       "</div>"
      ],
      "text/plain": [
       "   1  4\n",
       "0  2  5"
      ]
     },
     "execution_count": 187,
     "metadata": {},
     "output_type": "execute_result"
    }
   ],
   "source": [
    "pd.DataFrame(dic)"
   ]
  },
  {
   "cell_type": "code",
   "execution_count": null,
   "metadata": {},
   "outputs": [],
   "source": []
  }
 ],
 "metadata": {
  "kernelspec": {
   "display_name": "Python [conda env:blog] *",
   "language": "python",
   "name": "conda-env-blog-py"
  },
  "language_info": {
   "codemirror_mode": {
    "name": "ipython",
    "version": 3
   },
   "file_extension": ".py",
   "mimetype": "text/x-python",
   "name": "python",
   "nbconvert_exporter": "python",
   "pygments_lexer": "ipython3",
   "version": "3.8.3"
  }
 },
 "nbformat": 4,
 "nbformat_minor": 4
}
