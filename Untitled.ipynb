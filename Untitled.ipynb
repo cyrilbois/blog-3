{
 "cells": [
  {
   "cell_type": "code",
   "execution_count": 22,
   "metadata": {},
   "outputs": [],
   "source": [
    "s = \"国际初中科学奥林匹克（International Junior Science Olympiad，简称IJSO）是一项给予15岁或以下的学生参与的国际科学比赛。此比赛最先在2004年举办，然后一年举办一次。每一个国家／地区可以派出以6名学生及3名领队组成队伍参与赛事。这也是国际科学奥林匹克的其中之一。考试分成三个独立的部分，在不同的日子进行。此考试需要学生拥有科学（即物理、化学与生物学）的知识。以100分为满分。试验系考试由30题多项选择题组成，物理、化学与生物学各占10题。每题有4个选择。每答对一题得1分，每答错一题倒扣0.25分，弃权不扣分。这一部分以30分为满分。依照试验系考试的资料，答中题目的机率为P(C)，而答错题目的机率为P(E)，则formula_1　而　formula_2。故在随机答题的状况，所得分数的期望值为理论系考试以物理、化学与生物学三部分组成。以30分为满分。实验系考试必须以最多三人分成一小组进行，即每一个参赛单位可以分成最多两个小组。在同一小组的所有学生都会有相同的分数。以40分为满分。从第一届至第三届，实验系考试只有一题；而在第四届，实验系考试就分成四题。\""
   ]
  },
  {
   "cell_type": "code",
   "execution_count": 23,
   "metadata": {},
   "outputs": [
    {
     "data": {
      "text/plain": [
       "'国际初中科学奥林匹克（International Junior Science Olympiad，简称IJSO）是一项给予15岁或以下的学生参与的国际科学比赛。此比赛最先在2004年举办，然后一年举办一次。每一个国家／地区可以派出以6名学生及3名领队组成队伍参与赛事。这也是国际科学奥林匹克的其中之一。考试分成三个独立的部分，在不同的日子进行。此考试需要学生拥有科学（即物理、化学与生物学）的知识。以100分为满分。试验系考试由30题多项选择题组成，物理、化学与生物学各占10题。每题有4个选择。每答对一题得1分，每答错一题倒扣0.25分，弃权不扣分。这一部分以30分为满分。依照试验系考试的资料，答中题目的机率为P(C)，而答错题目的机率为P(E)，则formula_1\\u3000而\\u3000formula_2。故在随机答题的状况，所得分数的期望值为理论系考试以物理、化学与生物学三部分组成。以30分为满分。实验系考试必须以最多三人分成一小组进行，即每一个参赛单位可以分成最多两个小组。在同一小组的所有学生都会有相同的分数。以40分为满分。从第一届至第三届，实验系考试只有一题；而在第四届，实验系考试就分成四题。'"
      ]
     },
     "execution_count": 23,
     "metadata": {},
     "output_type": "execute_result"
    }
   ],
   "source": [
    "s"
   ]
  },
  {
   "cell_type": "code",
   "execution_count": 29,
   "metadata": {},
   "outputs": [
    {
     "data": {
      "text/plain": [
       "463"
      ]
     },
     "execution_count": 29,
     "metadata": {},
     "output_type": "execute_result"
    }
   ],
   "source": [
    "s.find('从第一届至第三届，实验系考试只有一题；而在第四届，实验系考试就分成四题。')"
   ]
  },
  {
   "cell_type": "code",
   "execution_count": 32,
   "metadata": {},
   "outputs": [
    {
     "data": {
      "text/plain": [
       "['从',\n",
       " '第',\n",
       " '一',\n",
       " '届',\n",
       " '至',\n",
       " '第',\n",
       " '三',\n",
       " '届',\n",
       " '，',\n",
       " '实',\n",
       " '验',\n",
       " '系',\n",
       " '考',\n",
       " '试',\n",
       " '只',\n",
       " '有',\n",
       " '一',\n",
       " '题',\n",
       " '；',\n",
       " '而',\n",
       " '在',\n",
       " '第',\n",
       " '四',\n",
       " '届',\n",
       " '，',\n",
       " '实',\n",
       " '验',\n",
       " '系',\n",
       " '考',\n",
       " '试',\n",
       " '就',\n",
       " '分',\n",
       " '成',\n",
       " '四',\n",
       " '题',\n",
       " '。']"
      ]
     },
     "execution_count": 32,
     "metadata": {},
     "output_type": "execute_result"
    }
   ],
   "source": [
    "list(s)[463:]"
   ]
  }
 ],
 "metadata": {
  "kernelspec": {
   "display_name": "Python [conda env:blog] *",
   "language": "python",
   "name": "conda-env-blog-py"
  },
  "language_info": {
   "codemirror_mode": {
    "name": "ipython",
    "version": 3
   },
   "file_extension": ".py",
   "mimetype": "text/x-python",
   "name": "python",
   "nbconvert_exporter": "python",
   "pygments_lexer": "ipython3",
   "version": "3.8.3"
  }
 },
 "nbformat": 4,
 "nbformat_minor": 4
}
